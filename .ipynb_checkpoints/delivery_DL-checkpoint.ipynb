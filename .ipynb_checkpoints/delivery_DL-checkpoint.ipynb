{
 "cells": [
  {
   "cell_type": "code",
   "execution_count": 1,
   "metadata": {},
   "outputs": [],
   "source": [
    "import pandas as pd\n",
    "import numpy as np\n",
    "import warnings\n",
    "import datetime\n",
    "import seaborn as sns\n",
    "import matplotlib.pyplot as plt\n",
    "warnings.filterwarnings('ignore')"
   ]
  },
  {
   "cell_type": "code",
   "execution_count": 2,
   "metadata": {},
   "outputs": [
    {
     "name": "stdout",
     "output_type": "stream",
     "text": [
      "(1032409, 32)\n"
     ]
    },
    {
     "data": {
      "text/html": [
       "<div>\n",
       "<style scoped>\n",
       "    .dataframe tbody tr th:only-of-type {\n",
       "        vertical-align: middle;\n",
       "    }\n",
       "\n",
       "    .dataframe tbody tr th {\n",
       "        vertical-align: top;\n",
       "    }\n",
       "\n",
       "    .dataframe thead th {\n",
       "        text-align: right;\n",
       "    }\n",
       "</style>\n",
       "<table border=\"1\" class=\"dataframe\">\n",
       "  <thead>\n",
       "    <tr style=\"text-align: right;\">\n",
       "      <th></th>\n",
       "      <th>SERIAL_NUMBER</th>\n",
       "      <th>PROCESS_DT</th>\n",
       "      <th>DLVR_RQESTER_ID</th>\n",
       "      <th>DLVR_REQUST_STTUS_VALUE</th>\n",
       "      <th>DLVR_RCEPT_CMPNY_ID</th>\n",
       "      <th>DLVR_STORE_ID</th>\n",
       "      <th>DLVR_STORE_INDUTY_NM</th>\n",
       "      <th>DLVR_STORE_LEGALDONG_CODE</th>\n",
       "      <th>DLVR_STORE_SIDO</th>\n",
       "      <th>DLVR_STORE_SIGUNGU</th>\n",
       "      <th>...</th>\n",
       "      <th>DLVR_AMOUNT</th>\n",
       "      <th>CALL_RLAY_FEE_AMOUNT</th>\n",
       "      <th>GOODS_AMOUNT</th>\n",
       "      <th>SETLE_KND_VALUE</th>\n",
       "      <th>SETLE_CARD_CN</th>\n",
       "      <th>DLVR_RCEPT_TIME</th>\n",
       "      <th>DLVR_CARALC_TIME</th>\n",
       "      <th>DLVR_RECPT_TIME</th>\n",
       "      <th>DLVR_COMPT_TIME</th>\n",
       "      <th>DLVR_CANCL_TIME</th>\n",
       "    </tr>\n",
       "  </thead>\n",
       "  <tbody>\n",
       "    <tr>\n",
       "      <th>7</th>\n",
       "      <td>163786</td>\n",
       "      <td>2019-07-15</td>\n",
       "      <td>C000077</td>\n",
       "      <td>1</td>\n",
       "      <td>C000077</td>\n",
       "      <td>S0021796</td>\n",
       "      <td>카페/디저트</td>\n",
       "      <td>4119011500</td>\n",
       "      <td>경기도</td>\n",
       "      <td>부천시</td>\n",
       "      <td>...</td>\n",
       "      <td>3000</td>\n",
       "      <td>200</td>\n",
       "      <td>17800</td>\n",
       "      <td>2</td>\n",
       "      <td>NaN</td>\n",
       "      <td>2019-07-15 11:32:29</td>\n",
       "      <td>2019-07-15 11:32:49</td>\n",
       "      <td>2019-07-15 11:40:39</td>\n",
       "      <td>2019-07-15 11:44:44</td>\n",
       "      <td>\\N</td>\n",
       "    </tr>\n",
       "    <tr>\n",
       "      <th>8</th>\n",
       "      <td>163805</td>\n",
       "      <td>2019-07-15</td>\n",
       "      <td>C000077</td>\n",
       "      <td>1</td>\n",
       "      <td>C000077</td>\n",
       "      <td>S0021884</td>\n",
       "      <td>돈까스/일식</td>\n",
       "      <td>4119011500</td>\n",
       "      <td>경기도</td>\n",
       "      <td>부천시</td>\n",
       "      <td>...</td>\n",
       "      <td>3000</td>\n",
       "      <td>200</td>\n",
       "      <td>12000</td>\n",
       "      <td>1</td>\n",
       "      <td>승인:비씨카드사</td>\n",
       "      <td>2019-07-15 11:13:37</td>\n",
       "      <td>2019-07-15 11:14:02</td>\n",
       "      <td>2019-07-15 11:22:04</td>\n",
       "      <td>2019-07-15 11:28:24</td>\n",
       "      <td>\\N</td>\n",
       "    </tr>\n",
       "    <tr>\n",
       "      <th>11</th>\n",
       "      <td>163895</td>\n",
       "      <td>2019-07-15</td>\n",
       "      <td>C000077</td>\n",
       "      <td>1</td>\n",
       "      <td>C000077</td>\n",
       "      <td>S0021739</td>\n",
       "      <td>치킨</td>\n",
       "      <td>4119011300</td>\n",
       "      <td>경기도</td>\n",
       "      <td>부천시</td>\n",
       "      <td>...</td>\n",
       "      <td>3000</td>\n",
       "      <td>200</td>\n",
       "      <td>29900</td>\n",
       "      <td>1</td>\n",
       "      <td>승인:KB국민카드</td>\n",
       "      <td>2019-07-15 11:29:06</td>\n",
       "      <td>2019-07-15 11:29:25</td>\n",
       "      <td>2019-07-15 11:39:54</td>\n",
       "      <td>2019-07-15 11:42:29</td>\n",
       "      <td>\\N</td>\n",
       "    </tr>\n",
       "    <tr>\n",
       "      <th>12</th>\n",
       "      <td>163922</td>\n",
       "      <td>2019-07-15</td>\n",
       "      <td>C000077</td>\n",
       "      <td>1</td>\n",
       "      <td>C000077</td>\n",
       "      <td>S0021772</td>\n",
       "      <td>분식</td>\n",
       "      <td>4119011500</td>\n",
       "      <td>경기도</td>\n",
       "      <td>부천시</td>\n",
       "      <td>...</td>\n",
       "      <td>3000</td>\n",
       "      <td>200</td>\n",
       "      <td>14500</td>\n",
       "      <td>2</td>\n",
       "      <td>NaN</td>\n",
       "      <td>2019-07-15 11:35:22</td>\n",
       "      <td>2019-07-15 11:38:30</td>\n",
       "      <td>2019-07-15 11:48:10</td>\n",
       "      <td>2019-07-15 11:54:29</td>\n",
       "      <td>\\N</td>\n",
       "    </tr>\n",
       "    <tr>\n",
       "      <th>13</th>\n",
       "      <td>163952</td>\n",
       "      <td>2019-07-15</td>\n",
       "      <td>C000077</td>\n",
       "      <td>1</td>\n",
       "      <td>C000077</td>\n",
       "      <td>S0021739</td>\n",
       "      <td>치킨</td>\n",
       "      <td>4119011300</td>\n",
       "      <td>경기도</td>\n",
       "      <td>부천시</td>\n",
       "      <td>...</td>\n",
       "      <td>3000</td>\n",
       "      <td>200</td>\n",
       "      <td>16000</td>\n",
       "      <td>1</td>\n",
       "      <td>승인:NH농협카드</td>\n",
       "      <td>2019-07-15 12:12:14</td>\n",
       "      <td>2019-07-15 12:27:17</td>\n",
       "      <td>2019-07-15 12:27:40</td>\n",
       "      <td>2019-07-15 12:30:54</td>\n",
       "      <td>\\N</td>\n",
       "    </tr>\n",
       "  </tbody>\n",
       "</table>\n",
       "<p>5 rows × 32 columns</p>\n",
       "</div>"
      ],
      "text/plain": [
       "    SERIAL_NUMBER  PROCESS_DT DLVR_RQESTER_ID  DLVR_REQUST_STTUS_VALUE  \\\n",
       "7          163786  2019-07-15         C000077                        1   \n",
       "8          163805  2019-07-15         C000077                        1   \n",
       "11         163895  2019-07-15         C000077                        1   \n",
       "12         163922  2019-07-15         C000077                        1   \n",
       "13         163952  2019-07-15         C000077                        1   \n",
       "\n",
       "   DLVR_RCEPT_CMPNY_ID DLVR_STORE_ID DLVR_STORE_INDUTY_NM  \\\n",
       "7              C000077      S0021796               카페/디저트   \n",
       "8              C000077      S0021884               돈까스/일식   \n",
       "11             C000077      S0021739                   치킨   \n",
       "12             C000077      S0021772                   분식   \n",
       "13             C000077      S0021739                   치킨   \n",
       "\n",
       "    DLVR_STORE_LEGALDONG_CODE DLVR_STORE_SIDO DLVR_STORE_SIGUNGU  ...  \\\n",
       "7                  4119011500             경기도                부천시  ...   \n",
       "8                  4119011500             경기도                부천시  ...   \n",
       "11                 4119011300             경기도                부천시  ...   \n",
       "12                 4119011500             경기도                부천시  ...   \n",
       "13                 4119011300             경기도                부천시  ...   \n",
       "\n",
       "   DLVR_AMOUNT CALL_RLAY_FEE_AMOUNT  GOODS_AMOUNT SETLE_KND_VALUE  \\\n",
       "7         3000                  200         17800               2   \n",
       "8         3000                  200         12000               1   \n",
       "11        3000                  200         29900               1   \n",
       "12        3000                  200         14500               2   \n",
       "13        3000                  200         16000               1   \n",
       "\n",
       "    SETLE_CARD_CN      DLVR_RCEPT_TIME     DLVR_CARALC_TIME  \\\n",
       "7             NaN  2019-07-15 11:32:29  2019-07-15 11:32:49   \n",
       "8        승인:비씨카드사  2019-07-15 11:13:37  2019-07-15 11:14:02   \n",
       "11      승인:KB국민카드  2019-07-15 11:29:06  2019-07-15 11:29:25   \n",
       "12            NaN  2019-07-15 11:35:22  2019-07-15 11:38:30   \n",
       "13      승인:NH농협카드  2019-07-15 12:12:14  2019-07-15 12:27:17   \n",
       "\n",
       "        DLVR_RECPT_TIME      DLVR_COMPT_TIME  DLVR_CANCL_TIME  \n",
       "7   2019-07-15 11:40:39  2019-07-15 11:44:44               \\N  \n",
       "8   2019-07-15 11:22:04  2019-07-15 11:28:24               \\N  \n",
       "11  2019-07-15 11:39:54  2019-07-15 11:42:29               \\N  \n",
       "12  2019-07-15 11:48:10  2019-07-15 11:54:29               \\N  \n",
       "13  2019-07-15 12:27:40  2019-07-15 12:30:54               \\N  \n",
       "\n",
       "[5 rows x 32 columns]"
      ]
     },
     "execution_count": 2,
     "metadata": {},
     "output_type": "execute_result"
    }
   ],
   "source": [
    "metadata = pd.read_excel('../dataset/1.배달 호출데이터 요약.xlsx', engine='openpyxl', sheet_name='배달호출정보 테이블명세서')\n",
    "meta = pd.DataFrame(metadata[4:].values, columns=metadata[3:4].values[0])\n",
    "\n",
    "data = pd.read_csv('../dataset/CATHOLIC_DATA.csv', header=None)\n",
    "data.columns = meta['영문 컬럼명'].values[:-1]\n",
    "\n",
    "bucheon = data[(data['DLVR_DSTN_SIGUNGU'] == '부천시') & (data['DLVR_REQUST_STTUS_VALUE'] == 1)]\n",
    "print(bucheon.shape)\n",
    "\n",
    "bucheon.head()"
   ]
  },
  {
   "cell_type": "code",
   "execution_count": 3,
   "metadata": {},
   "outputs": [],
   "source": [
    "df = pd.DataFrame()\n",
    "\n",
    "df['date'] = bucheon['PROCESS_DT']\n",
    "df['food'] = bucheon['DLVR_STORE_INDUTY_NM']\n",
    "df['dong'] = bucheon['DLVR_DSTN_DONG']\n",
    "df['money'] = bucheon['GOODS_AMOUNT']\n",
    "\n",
    "df['receipt'] = bucheon['DLVR_RCEPT_TIME']\n",
    "df['dispatch'] = bucheon['DLVR_CARALC_TIME']\n",
    "df['receive'] = bucheon['DLVR_RECPT_TIME']\n",
    "df['done'] = bucheon['DLVR_COMPT_TIME']\n",
    "df['cancle'] = bucheon['DLVR_CANCL_TIME']"
   ]
  },
  {
   "cell_type": "markdown",
   "metadata": {},
   "source": [
    "- 배달배차시간과 배달수령시간이 없는 데이터 제외 (아마도 포장일듯)"
   ]
  },
  {
   "cell_type": "code",
   "execution_count": 4,
   "metadata": {},
   "outputs": [],
   "source": [
    "df = df[(df['receive'] != '\\\\N') & (df['dispatch'] != '\\\\N')]"
   ]
  },
  {
   "cell_type": "code",
   "execution_count": 5,
   "metadata": {},
   "outputs": [],
   "source": [
    "def get_time(x):\n",
    "    h, m, s = x.split()[1].split(':')\n",
    "    return int(h)*3600 + int(m)*60 + int(s)\n",
    "\n",
    "def get_hour(x):\n",
    "    return pd.Timestamp(x.split(' ')[1]).time().hour\n",
    "\n",
    "days = ['월','화','수','목','금','토','일']\n",
    "\n",
    "def get_week(x):\n",
    "    d = pd.Timestamp(x)\n",
    "    return days[datetime.date(d.year, d.month, d.day).weekday()]\n",
    "\n",
    "def is_holiday(x):\n",
    "    if x == '월' or '화' or '수' or '목' or '금':\n",
    "        return 0\n",
    "    elif x == '토' or '일':\n",
    "        return 1"
   ]
  },
  {
   "cell_type": "code",
   "execution_count": 6,
   "metadata": {},
   "outputs": [
    {
     "data": {
      "text/html": [
       "<div>\n",
       "<style scoped>\n",
       "    .dataframe tbody tr th:only-of-type {\n",
       "        vertical-align: middle;\n",
       "    }\n",
       "\n",
       "    .dataframe tbody tr th {\n",
       "        vertical-align: top;\n",
       "    }\n",
       "\n",
       "    .dataframe thead th {\n",
       "        text-align: right;\n",
       "    }\n",
       "</style>\n",
       "<table border=\"1\" class=\"dataframe\">\n",
       "  <thead>\n",
       "    <tr style=\"text-align: right;\">\n",
       "      <th></th>\n",
       "      <th>date</th>\n",
       "      <th>food</th>\n",
       "      <th>dong</th>\n",
       "      <th>money</th>\n",
       "      <th>receipt</th>\n",
       "      <th>dispatch</th>\n",
       "      <th>receive</th>\n",
       "      <th>done</th>\n",
       "      <th>cancle</th>\n",
       "      <th>confirm_time</th>\n",
       "      <th>cook_time</th>\n",
       "      <th>delivery_time</th>\n",
       "      <th>done_time</th>\n",
       "      <th>hour</th>\n",
       "      <th>week</th>\n",
       "      <th>holiday</th>\n",
       "    </tr>\n",
       "  </thead>\n",
       "  <tbody>\n",
       "    <tr>\n",
       "      <th>7</th>\n",
       "      <td>2019-07-15</td>\n",
       "      <td>카페/디저트</td>\n",
       "      <td>범박동</td>\n",
       "      <td>17800</td>\n",
       "      <td>2019-07-15 11:32:29</td>\n",
       "      <td>2019-07-15 11:32:49</td>\n",
       "      <td>2019-07-15 11:40:39</td>\n",
       "      <td>2019-07-15 11:44:44</td>\n",
       "      <td>\\N</td>\n",
       "      <td>20</td>\n",
       "      <td>470</td>\n",
       "      <td>245</td>\n",
       "      <td>735</td>\n",
       "      <td>11</td>\n",
       "      <td>월</td>\n",
       "      <td>0</td>\n",
       "    </tr>\n",
       "    <tr>\n",
       "      <th>8</th>\n",
       "      <td>2019-07-15</td>\n",
       "      <td>돈까스/일식</td>\n",
       "      <td>옥길동</td>\n",
       "      <td>12000</td>\n",
       "      <td>2019-07-15 11:13:37</td>\n",
       "      <td>2019-07-15 11:14:02</td>\n",
       "      <td>2019-07-15 11:22:04</td>\n",
       "      <td>2019-07-15 11:28:24</td>\n",
       "      <td>\\N</td>\n",
       "      <td>25</td>\n",
       "      <td>482</td>\n",
       "      <td>380</td>\n",
       "      <td>887</td>\n",
       "      <td>11</td>\n",
       "      <td>월</td>\n",
       "      <td>0</td>\n",
       "    </tr>\n",
       "    <tr>\n",
       "      <th>11</th>\n",
       "      <td>2019-07-15</td>\n",
       "      <td>치킨</td>\n",
       "      <td>소사본동</td>\n",
       "      <td>29900</td>\n",
       "      <td>2019-07-15 11:29:06</td>\n",
       "      <td>2019-07-15 11:29:25</td>\n",
       "      <td>2019-07-15 11:39:54</td>\n",
       "      <td>2019-07-15 11:42:29</td>\n",
       "      <td>\\N</td>\n",
       "      <td>19</td>\n",
       "      <td>629</td>\n",
       "      <td>155</td>\n",
       "      <td>803</td>\n",
       "      <td>11</td>\n",
       "      <td>월</td>\n",
       "      <td>0</td>\n",
       "    </tr>\n",
       "    <tr>\n",
       "      <th>12</th>\n",
       "      <td>2019-07-15</td>\n",
       "      <td>분식</td>\n",
       "      <td>옥길동</td>\n",
       "      <td>14500</td>\n",
       "      <td>2019-07-15 11:35:22</td>\n",
       "      <td>2019-07-15 11:38:30</td>\n",
       "      <td>2019-07-15 11:48:10</td>\n",
       "      <td>2019-07-15 11:54:29</td>\n",
       "      <td>\\N</td>\n",
       "      <td>188</td>\n",
       "      <td>580</td>\n",
       "      <td>379</td>\n",
       "      <td>1147</td>\n",
       "      <td>11</td>\n",
       "      <td>월</td>\n",
       "      <td>0</td>\n",
       "    </tr>\n",
       "    <tr>\n",
       "      <th>13</th>\n",
       "      <td>2019-07-15</td>\n",
       "      <td>치킨</td>\n",
       "      <td>소사본동</td>\n",
       "      <td>16000</td>\n",
       "      <td>2019-07-15 12:12:14</td>\n",
       "      <td>2019-07-15 12:27:17</td>\n",
       "      <td>2019-07-15 12:27:40</td>\n",
       "      <td>2019-07-15 12:30:54</td>\n",
       "      <td>\\N</td>\n",
       "      <td>903</td>\n",
       "      <td>23</td>\n",
       "      <td>194</td>\n",
       "      <td>1120</td>\n",
       "      <td>12</td>\n",
       "      <td>월</td>\n",
       "      <td>0</td>\n",
       "    </tr>\n",
       "  </tbody>\n",
       "</table>\n",
       "</div>"
      ],
      "text/plain": [
       "          date    food  dong  money              receipt             dispatch  \\\n",
       "7   2019-07-15  카페/디저트   범박동  17800  2019-07-15 11:32:29  2019-07-15 11:32:49   \n",
       "8   2019-07-15  돈까스/일식   옥길동  12000  2019-07-15 11:13:37  2019-07-15 11:14:02   \n",
       "11  2019-07-15      치킨  소사본동  29900  2019-07-15 11:29:06  2019-07-15 11:29:25   \n",
       "12  2019-07-15      분식   옥길동  14500  2019-07-15 11:35:22  2019-07-15 11:38:30   \n",
       "13  2019-07-15      치킨  소사본동  16000  2019-07-15 12:12:14  2019-07-15 12:27:17   \n",
       "\n",
       "                receive                 done cancle  confirm_time  cook_time  \\\n",
       "7   2019-07-15 11:40:39  2019-07-15 11:44:44     \\N            20        470   \n",
       "8   2019-07-15 11:22:04  2019-07-15 11:28:24     \\N            25        482   \n",
       "11  2019-07-15 11:39:54  2019-07-15 11:42:29     \\N            19        629   \n",
       "12  2019-07-15 11:48:10  2019-07-15 11:54:29     \\N           188        580   \n",
       "13  2019-07-15 12:27:40  2019-07-15 12:30:54     \\N           903         23   \n",
       "\n",
       "    delivery_time  done_time  hour week  holiday  \n",
       "7             245        735    11    월        0  \n",
       "8             380        887    11    월        0  \n",
       "11            155        803    11    월        0  \n",
       "12            379       1147    11    월        0  \n",
       "13            194       1120    12    월        0  "
      ]
     },
     "execution_count": 6,
     "metadata": {},
     "output_type": "execute_result"
    }
   ],
   "source": [
    "df['confirm_time'] = abs(df['dispatch'].map(lambda x: get_time(x)) - df['receipt'].map(lambda x: get_time(x)))\n",
    "df['cook_time'] = abs(df['receive'].map(lambda x: get_time(x)) - df['dispatch'].map(lambda x: get_time(x)))\n",
    "df['delivery_time'] = abs(df['done'].map(lambda x: get_time(x)) - df['receive'].map(lambda x: get_time(x)))\n",
    "df['done_time'] = abs(df['done'].map(lambda x: get_time(x)) - df['receipt'].map(lambda x: get_time(x)))\n",
    "\n",
    "df['hour'] = bucheon['DLVR_RCEPT_TIME'].map(lambda x: get_hour(x))\n",
    "df['week'] = bucheon['DLVR_RCEPT_TIME'].map(lambda x: get_week(x))\n",
    "df['holiday'] = df['week'].map(lambda x: is_holiday(x))\n",
    "\n",
    "df.head()"
   ]
  },
  {
   "cell_type": "markdown",
   "metadata": {},
   "source": [
    "- 배달시간이 1분 이하, 2시간(7200초) 이상이면 결측값으로 판단하고 제외한다"
   ]
  },
  {
   "cell_type": "code",
   "execution_count": 7,
   "metadata": {},
   "outputs": [],
   "source": [
    "df = df[(df['delivery_time']>= 60) & (df['delivery_time'] <= 7200)]"
   ]
  },
  {
   "cell_type": "markdown",
   "metadata": {},
   "source": [
    "# 딥러닝"
   ]
  },
  {
   "cell_type": "code",
   "execution_count": 53,
   "metadata": {},
   "outputs": [],
   "source": [
    "import keras\n",
    "from tensorflow.keras.utils impor\n",
    "t to_categorical\n",
    "from keras.callbacks import EarlyStopping\n",
    "\n",
    "from sklearn.model_selection import train_test_split\n",
    "from sklearn.preprocessing import MinMaxScaler\n",
    "from sklearn.metrics import confusion_matrix, classification_report\n",
    "from sklearn.metrics import accuracy_score, precision_recall_fscore_support"
   ]
  },
  {
   "cell_type": "markdown",
   "metadata": {},
   "source": [
    "## 변수 인코딩"
   ]
  },
  {
   "cell_type": "code",
   "execution_count": 176,
   "metadata": {},
   "outputs": [],
   "source": [
    "food_ord = {'카페/디저트':0, '돈까스/일식':1, '치킨':2, '분식':3, '패스트푸드':4,\n",
    "            '족발/보쌈':5, '찜탕':6, '한식':7, '중식':8, '아시안/양식':9,\n",
    "            '도시락':10, '피자':11, '회':12, '배달전문업체':13, '야식':14}\n",
    "\n",
    "df['food_ord'] = df.food.map(food_ord)"
   ]
  },
  {
   "cell_type": "code",
   "execution_count": 177,
   "metadata": {},
   "outputs": [],
   "source": [
    "X = df[['dong', 'hour', 'week', 'money', 'cook_time', 'delivery_time']]\n",
    "y = df['food_ord']\n",
    "\n",
    "X = pd.get_dummies(X)\n",
    "X = X.reset_index(drop=True)\n",
    "\n",
    "X_train, X_test, y_train, y_test = train_test_split(X, y, test_size=0.3)\n",
    "X_train, X_val, y_train, y_val = train_test_split(X_train, y_train, test_size=0.3)\n",
    "\n",
    "y_train = to_categorical(y_train)\n",
    "y_val = to_categorical(y_val)"
   ]
  },
  {
   "cell_type": "markdown",
   "metadata": {},
   "source": [
    "## 스케일링"
   ]
  },
  {
   "cell_type": "code",
   "execution_count": 178,
   "metadata": {},
   "outputs": [],
   "source": [
    "scaler = MinMaxScaler()\n",
    "\n",
    "X_train = scaler.fit_transform(X_train)\n",
    "X_val = scaler.fit_transform(X_val)\n",
    "X_test = scaler.transform(X_test)"
   ]
  },
  {
   "cell_type": "markdown",
   "metadata": {},
   "source": [
    "## 모델 훈련"
   ]
  },
  {
   "cell_type": "code",
   "execution_count": 179,
   "metadata": {},
   "outputs": [],
   "source": [
    "keras.backend.clear_session()\n",
    "\n",
    "model = keras.models.Sequential()\n",
    "\n",
    "model.add(keras.layers.Dense(15, input_shape=(None, 35), activation='relu'))\n",
    "model.add(keras.layers.Dense(15, activation='softmax'))\n",
    "\n",
    "model.compile(loss = 'categorical_crossentropy', optimizer = 'adam', metrics = 'accuracy')"
   ]
  },
  {
   "cell_type": "code",
   "execution_count": 180,
   "metadata": {},
   "outputs": [
    {
     "name": "stdout",
     "output_type": "stream",
     "text": [
      "Model: \"sequential\"\n",
      "_________________________________________________________________\n",
      "Layer (type)                 Output Shape              Param #   \n",
      "=================================================================\n",
      "dense (Dense)                (None, None, 15)          540       \n",
      "_________________________________________________________________\n",
      "dense_1 (Dense)              (None, None, 15)          240       \n",
      "=================================================================\n",
      "Total params: 780\n",
      "Trainable params: 780\n",
      "Non-trainable params: 0\n",
      "_________________________________________________________________\n"
     ]
    }
   ],
   "source": [
    "model.summary()"
   ]
  },
  {
   "cell_type": "code",
   "execution_count": 181,
   "metadata": {
    "scrolled": true
   },
   "outputs": [
    {
     "name": "stdout",
     "output_type": "stream",
     "text": [
      "Epoch 1/30\n",
      "WARNING:tensorflow:Model was constructed with shape (None, None, 35) for input Tensor(\"dense_input:0\", shape=(None, None, 35), dtype=float32), but it was called on an input with incompatible shape (None, 35).\n",
      "WARNING:tensorflow:Model was constructed with shape (None, None, 35) for input Tensor(\"dense_input:0\", shape=(None, None, 35), dtype=float32), but it was called on an input with incompatible shape (None, 35).\n",
      "11797/11802 [============================>.] - ETA: 0s - loss: 2.3087 - accuracy: 0.2560WARNING:tensorflow:Model was constructed with shape (None, None, 35) for input Tensor(\"dense_input:0\", shape=(None, None, 35), dtype=float32), but it was called on an input with incompatible shape (None, 35).\n",
      "11802/11802 [==============================] - 36s 3ms/step - loss: 2.3086 - accuracy: 0.2560 - val_loss: 2.2534 - val_accuracy: 0.2749\n",
      "Epoch 2/30\n",
      "11802/11802 [==============================] - 35s 3ms/step - loss: 2.2333 - accuracy: 0.2760 - val_loss: 2.2653 - val_accuracy: 0.2759\n",
      "Epoch 3/30\n",
      "11802/11802 [==============================] - 36s 3ms/step - loss: 2.2140 - accuracy: 0.2853 - val_loss: 2.2788 - val_accuracy: 0.2701\n",
      "Epoch 4/30\n",
      "11802/11802 [==============================] - 36s 3ms/step - loss: 2.2027 - accuracy: 0.2920 - val_loss: 2.2630 - val_accuracy: 0.2789\n",
      "Epoch 5/30\n",
      "11802/11802 [==============================] - 36s 3ms/step - loss: 2.1948 - accuracy: 0.2937 - val_loss: 2.2598 - val_accuracy: 0.2758\n",
      "Epoch 6/30\n",
      "11802/11802 [==============================] - 35s 3ms/step - loss: 2.1898 - accuracy: 0.2949 - val_loss: 2.2882 - val_accuracy: 0.2699\n",
      "Epoch 7/30\n",
      "11802/11802 [==============================] - 36s 3ms/step - loss: 2.1853 - accuracy: 0.2962 - val_loss: 2.2688 - val_accuracy: 0.2754\n",
      "Epoch 8/30\n",
      "11802/11802 [==============================] - 35s 3ms/step - loss: 2.1804 - accuracy: 0.2969 - val_loss: 2.2776 - val_accuracy: 0.2751\n",
      "Epoch 9/30\n",
      "11802/11802 [==============================] - 36s 3ms/step - loss: 2.1758 - accuracy: 0.2981 - val_loss: 2.2917 - val_accuracy: 0.2695\n",
      "Epoch 10/30\n",
      "11802/11802 [==============================] - 35s 3ms/step - loss: 2.1714 - accuracy: 0.2991 - val_loss: 2.2904 - val_accuracy: 0.2759\n",
      "Epoch 11/30\n",
      "11802/11802 [==============================] - 36s 3ms/step - loss: 2.1672 - accuracy: 0.3000 - val_loss: 2.2814 - val_accuracy: 0.2717\n",
      "Epoch 12/30\n",
      "11802/11802 [==============================] - 35s 3ms/step - loss: 2.1636 - accuracy: 0.3012 - val_loss: 2.2788 - val_accuracy: 0.2834\n",
      "Epoch 13/30\n",
      "11802/11802 [==============================] - 35s 3ms/step - loss: 2.1604 - accuracy: 0.3025 - val_loss: 2.2793 - val_accuracy: 0.2820\n",
      "Epoch 14/30\n",
      "11802/11802 [==============================] - 35s 3ms/step - loss: 2.1570 - accuracy: 0.3033 - val_loss: 2.2876 - val_accuracy: 0.2783\n",
      "Epoch 15/30\n",
      "11802/11802 [==============================] - 35s 3ms/step - loss: 2.1536 - accuracy: 0.3049 - val_loss: 2.2649 - val_accuracy: 0.2913\n",
      "Epoch 16/30\n",
      "11802/11802 [==============================] - 35s 3ms/step - loss: 2.1504 - accuracy: 0.3063 - val_loss: 2.2718 - val_accuracy: 0.2799\n",
      "Epoch 17/30\n",
      "11802/11802 [==============================] - 36s 3ms/step - loss: 2.1468 - accuracy: 0.3078 - val_loss: 2.2744 - val_accuracy: 0.2786\n",
      "Epoch 18/30\n",
      "11802/11802 [==============================] - 35s 3ms/step - loss: 2.1421 - accuracy: 0.3088 - val_loss: 2.2813 - val_accuracy: 0.2800\n",
      "Epoch 19/30\n",
      "11802/11802 [==============================] - 35s 3ms/step - loss: 2.1381 - accuracy: 0.3100 - val_loss: 2.2798 - val_accuracy: 0.2744\n",
      "Epoch 20/30\n",
      "11802/11802 [==============================] - 35s 3ms/step - loss: 2.1349 - accuracy: 0.3116 - val_loss: 2.2776 - val_accuracy: 0.2819\n",
      "Epoch 21/30\n",
      "11802/11802 [==============================] - 36s 3ms/step - loss: 2.1329 - accuracy: 0.3124 - val_loss: 2.2764 - val_accuracy: 0.2818\n",
      "Epoch 22/30\n",
      "11802/11802 [==============================] - 35s 3ms/step - loss: 2.1310 - accuracy: 0.3138 - val_loss: 2.3097 - val_accuracy: 0.2637\n",
      "Epoch 23/30\n",
      "11802/11802 [==============================] - 35s 3ms/step - loss: 2.1295 - accuracy: 0.3145 - val_loss: 2.2752 - val_accuracy: 0.2733\n",
      "Epoch 24/30\n",
      "11802/11802 [==============================] - 35s 3ms/step - loss: 2.1287 - accuracy: 0.3145 - val_loss: 2.2667 - val_accuracy: 0.2771\n",
      "Epoch 25/30\n",
      "11802/11802 [==============================] - 35s 3ms/step - loss: 2.1278 - accuracy: 0.3154 - val_loss: 2.2766 - val_accuracy: 0.2776\n",
      "Epoch 26/30\n",
      "11802/11802 [==============================] - 35s 3ms/step - loss: 2.1269 - accuracy: 0.3155 - val_loss: 2.2867 - val_accuracy: 0.2708\n",
      "Epoch 27/30\n",
      "11802/11802 [==============================] - 35s 3ms/step - loss: 2.1262 - accuracy: 0.3155 - val_loss: 2.2929 - val_accuracy: 0.2664\n",
      "Epoch 28/30\n",
      "11802/11802 [==============================] - 36s 3ms/step - loss: 2.1256 - accuracy: 0.3156 - val_loss: 2.3035 - val_accuracy: 0.2579\n",
      "Epoch 29/30\n",
      "11802/11802 [==============================] - 35s 3ms/step - loss: 2.1250 - accuracy: 0.3159 - val_loss: 2.3140 - val_accuracy: 0.2609\n",
      "Epoch 30/30\n",
      "11802/11802 [==============================] - 36s 3ms/step - loss: 2.1243 - accuracy: 0.3165 - val_loss: 2.2843 - val_accuracy: 0.2684\n"
     ]
    }
   ],
   "source": [
    "history = model.fit(X_train,\n",
    "                    y_train,\n",
    "                    epochs=30,\n",
    "                    #batch_size=512,\n",
    "                    validation_data=(X_val, y_val))"
   ]
  },
  {
   "cell_type": "code",
   "execution_count": 182,
   "metadata": {},
   "outputs": [
    {
     "data": {
      "image/png": "[encoded data removed]",
      "text/plain": [
       "<Figure size 432x288 with 1 Axes>"
      ]
     },
     "metadata": {
      "needs_background": "light"
     },
     "output_type": "display_data"
    }
   ],
   "source": [
    "loss = history.history['loss']\n",
    "val_loss = history.history['val_loss']\n",
    "\n",
    "epochs = range(1, len(loss)+1)\n",
    "\n",
    "plt.plot(epochs, loss, 'bo', label='Training loss')\n",
    "plt.plot(epochs, val_loss, 'b', label='Validation loss')\n",
    "plt.title('Training and validation loss')\n",
    "plt.xlabel('Epochs')\n",
    "plt.ylabel('Loss')\n",
    "plt.legend()\n",
    "\n",
    "plt.show()"
   ]
  },
  {
   "cell_type": "code",
   "execution_count": 183,
   "metadata": {},
   "outputs": [
    {
     "data": {
      "image/png": "[encoded data removed]",
      "text/plain": [
       "<Figure size 432x288 with 1 Axes>"
      ]
     },
     "metadata": {
      "needs_background": "light"
     },
     "output_type": "display_data"
    }
   ],
   "source": [
    "plt.clf()\n",
    "\n",
    "acc = history.history['accuracy']\n",
    "val_acc = history.history['val_accuracy']\n",
    "\n",
    "plt.plot(epochs, acc, 'bo', label='Training acc')\n",
    "plt.plot(epochs, val_acc, 'b', label='Validation acc')\n",
    "plt.title('Training and validation accuracy')\n",
    "plt.xlabel('Epochs')\n",
    "plt.ylabel('Accuracy')\n",
    "plt.legend()\n",
    "\n",
    "plt.show()"
   ]
  },
  {
   "cell_type": "code",
   "execution_count": 184,
   "metadata": {},
   "outputs": [
    {
     "name": "stdout",
     "output_type": "stream",
     "text": [
      "WARNING:tensorflow:Model was constructed with shape (None, None, 35) for input Tensor(\"dense_input:0\", shape=(None, None, 35), dtype=float32), but it was called on an input with incompatible shape (None, 35).\n"
     ]
    }
   ],
   "source": [
    "test_pred = model.predict(X_test)\n",
    "test_pred_cl = model.predict_classes(X_test)"
   ]
  },
  {
   "cell_type": "code",
   "execution_count": 185,
   "metadata": {},
   "outputs": [
    {
     "name": "stdout",
     "output_type": "stream",
     "text": [
      "              precision    recall  f1-score   support\n",
      "\n",
      "           0       0.48      0.03      0.05     19768\n",
      "           1       0.18      0.14      0.16     17139\n",
      "           2       0.34      0.59      0.44     57233\n",
      "           3       0.31      0.09      0.14     25876\n",
      "           4       0.24      0.03      0.06      8057\n",
      "           5       0.17      0.68      0.28     16067\n",
      "           6       0.13      0.01      0.02      9258\n",
      "           7       0.26      0.29      0.27     35284\n",
      "           8       0.18      0.04      0.07      9061\n",
      "           9       0.00      0.00      0.00      5547\n",
      "          10       0.27      0.14      0.18      3160\n",
      "          11       0.17      0.02      0.04     10168\n",
      "          12       0.21      0.08      0.11      3700\n",
      "          13       0.00      0.00      0.00      4939\n",
      "          14       0.00      0.00      0.00      5962\n",
      "\n",
      "    accuracy                           0.27    231219\n",
      "   macro avg       0.20      0.14      0.12    231219\n",
      "weighted avg       0.26      0.27      0.21    231219\n",
      "\n"
     ]
    }
   ],
   "source": [
    "# classification report\n",
    "print(classification_report(y_test, test_pred_cl))"
   ]
  },
  {
   "cell_type": "code",
   "execution_count": 186,
   "metadata": {},
   "outputs": [
    {
     "name": "stdout",
     "output_type": "stream",
     "text": [
      "0.2684381473840818\n"
     ]
    }
   ],
   "source": [
    "print(accuracy_score(y_test, test_pred_cl))"
   ]
  },
  {
   "cell_type": "markdown",
   "metadata": {},
   "source": [
    "### 요리시간 빼고"
   ]
  },
  {
   "cell_type": "code",
   "execution_count": 174,
   "metadata": {
    "scrolled": true
   },
   "outputs": [
    {
     "name": "stdout",
     "output_type": "stream",
     "text": [
      "Epoch 1/40\n",
      "WARNING:tensorflow:Model was constructed with shape (None, None, 34) for input Tensor(\"dense_input:0\", shape=(None, None, 34), dtype=float32), but it was called on an input with incompatible shape (None, 34).\n",
      "WARNING:tensorflow:Model was constructed with shape (None, None, 34) for input Tensor(\"dense_input:0\", shape=(None, None, 34), dtype=float32), but it was called on an input with incompatible shape (None, 34).\n",
      "11792/11802 [============================>.] - ETA: 0s - loss: 2.3079 - accuracy: 0.2562WARNING:tensorflow:Model was constructed with shape (None, None, 34) for input Tensor(\"dense_input:0\", shape=(None, None, 34), dtype=float32), but it was called on an input with incompatible shape (None, 34).\n",
      "11802/11802 [==============================] - 36s 3ms/step - loss: 2.3078 - accuracy: 0.2562 - val_loss: 2.2590 - val_accuracy: 0.2735\n",
      "Epoch 2/40\n",
      "11802/11802 [==============================] - 35s 3ms/step - loss: 2.2306 - accuracy: 0.2787 - val_loss: 2.2180 - val_accuracy: 0.2892\n",
      "Epoch 3/40\n",
      "11802/11802 [==============================] - 36s 3ms/step - loss: 2.1998 - accuracy: 0.2912 - val_loss: 2.1977 - val_accuracy: 0.2964\n",
      "Epoch 4/40\n",
      "11802/11802 [==============================] - 35s 3ms/step - loss: 2.1898 - accuracy: 0.2935 - val_loss: 2.1941 - val_accuracy: 0.2969\n",
      "Epoch 5/40\n",
      "11802/11802 [==============================] - 36s 3ms/step - loss: 2.1870 - accuracy: 0.2949 - val_loss: 2.1933 - val_accuracy: 0.2978\n",
      "Epoch 6/40\n",
      "11802/11802 [==============================] - 36s 3ms/step - loss: 2.1854 - accuracy: 0.2952 - val_loss: 2.1935 - val_accuracy: 0.3001\n",
      "Epoch 7/40\n",
      "11802/11802 [==============================] - 36s 3ms/step - loss: 2.1840 - accuracy: 0.2959 - val_loss: 2.1912 - val_accuracy: 0.3003\n",
      "Epoch 8/40\n",
      "11802/11802 [==============================] - 36s 3ms/step - loss: 2.1828 - accuracy: 0.2968 - val_loss: 2.1949 - val_accuracy: 0.3003\n",
      "Epoch 9/40\n",
      "11802/11802 [==============================] - 36s 3ms/step - loss: 2.1818 - accuracy: 0.2977 - val_loss: 2.1881 - val_accuracy: 0.2982\n",
      "Epoch 10/40\n",
      "11802/11802 [==============================] - 35s 3ms/step - loss: 2.1810 - accuracy: 0.2976 - val_loss: 2.1910 - val_accuracy: 0.3019\n",
      "Epoch 11/40\n",
      "11802/11802 [==============================] - 36s 3ms/step - loss: 2.1802 - accuracy: 0.2981 - val_loss: 2.1920 - val_accuracy: 0.3004\n",
      "Epoch 12/40\n",
      "11802/11802 [==============================] - 36s 3ms/step - loss: 2.1795 - accuracy: 0.2979 - val_loss: 2.1853 - val_accuracy: 0.3005\n",
      "Epoch 13/40\n",
      "11802/11802 [==============================] - 36s 3ms/step - loss: 2.1790 - accuracy: 0.2983 - val_loss: 2.1895 - val_accuracy: 0.3008\n",
      "Epoch 14/40\n",
      "11802/11802 [==============================] - 35s 3ms/step - loss: 2.1785 - accuracy: 0.2986 - val_loss: 2.1882 - val_accuracy: 0.2996\n",
      "Epoch 15/40\n",
      "11802/11802 [==============================] - 36s 3ms/step - loss: 2.1781 - accuracy: 0.2988 - val_loss: 2.1887 - val_accuracy: 0.3010\n",
      "Epoch 16/40\n",
      "11802/11802 [==============================] - 36s 3ms/step - loss: 2.1777 - accuracy: 0.2989 - val_loss: 2.1860 - val_accuracy: 0.3003\n",
      "Epoch 17/40\n",
      "11802/11802 [==============================] - 36s 3ms/step - loss: 2.1773 - accuracy: 0.2988 - val_loss: 2.1876 - val_accuracy: 0.2995\n",
      "Epoch 18/40\n",
      "11802/11802 [==============================] - 35s 3ms/step - loss: 2.1768 - accuracy: 0.2990 - val_loss: 2.1879 - val_accuracy: 0.3008\n",
      "Epoch 19/40\n",
      "11802/11802 [==============================] - 35s 3ms/step - loss: 2.1767 - accuracy: 0.2986 - val_loss: 2.1870 - val_accuracy: 0.3008\n",
      "Epoch 20/40\n",
      "11802/11802 [==============================] - 36s 3ms/step - loss: 2.1759 - accuracy: 0.2990 - val_loss: 2.1879 - val_accuracy: 0.3015\n",
      "Epoch 21/40\n",
      "11802/11802 [==============================] - 36s 3ms/step - loss: 2.1754 - accuracy: 0.2988 - val_loss: 2.1844 - val_accuracy: 0.3005\n",
      "Epoch 22/40\n",
      "11802/11802 [==============================] - 36s 3ms/step - loss: 2.1748 - accuracy: 0.2991 - val_loss: 2.1901 - val_accuracy: 0.2996\n",
      "Epoch 23/40\n",
      "11802/11802 [==============================] - 36s 3ms/step - loss: 2.1742 - accuracy: 0.2991 - val_loss: 2.1881 - val_accuracy: 0.3014\n",
      "Epoch 24/40\n",
      "11802/11802 [==============================] - 36s 3ms/step - loss: 2.1738 - accuracy: 0.2994 - val_loss: 2.1836 - val_accuracy: 0.3020\n",
      "Epoch 25/40\n",
      "11802/11802 [==============================] - 36s 3ms/step - loss: 2.1731 - accuracy: 0.2992 - val_loss: 2.1818 - val_accuracy: 0.3008\n",
      "Epoch 26/40\n",
      "11802/11802 [==============================] - 36s 3ms/step - loss: 2.1724 - accuracy: 0.2993 - val_loss: 2.1791 - val_accuracy: 0.3014\n",
      "Epoch 27/40\n",
      "11802/11802 [==============================] - 35s 3ms/step - loss: 2.1713 - accuracy: 0.2994 - val_loss: 2.1809 - val_accuracy: 0.3018\n",
      "Epoch 28/40\n",
      "11802/11802 [==============================] - 36s 3ms/step - loss: 2.1686 - accuracy: 0.3001 - val_loss: 2.1766 - val_accuracy: 0.3023\n",
      "Epoch 29/40\n",
      "11802/11802 [==============================] - 36s 3ms/step - loss: 2.1609 - accuracy: 0.3017 - val_loss: 2.1589 - val_accuracy: 0.3059\n",
      "Epoch 30/40\n",
      "11802/11802 [==============================] - 36s 3ms/step - loss: 2.1435 - accuracy: 0.3046 - val_loss: 2.1459 - val_accuracy: 0.3069\n",
      "Epoch 31/40\n",
      "11802/11802 [==============================] - 36s 3ms/step - loss: 2.1331 - accuracy: 0.3070 - val_loss: 2.1407 - val_accuracy: 0.3098\n",
      "Epoch 32/40\n",
      "11802/11802 [==============================] - 36s 3ms/step - loss: 2.1284 - accuracy: 0.3089 - val_loss: 2.1429 - val_accuracy: 0.3084\n",
      "Epoch 33/40\n",
      "11802/11802 [==============================] - 36s 3ms/step - loss: 2.1260 - accuracy: 0.3102 - val_loss: 2.1464 - val_accuracy: 0.3081\n",
      "Epoch 34/40\n",
      "11802/11802 [==============================] - 36s 3ms/step - loss: 2.1245 - accuracy: 0.3105 - val_loss: 2.1350 - val_accuracy: 0.3115\n",
      "Epoch 35/40\n",
      "11802/11802 [==============================] - 35s 3ms/step - loss: 2.1236 - accuracy: 0.3111 - val_loss: 2.1384 - val_accuracy: 0.3072\n",
      "Epoch 36/40\n",
      "11802/11802 [==============================] - 36s 3ms/step - loss: 2.1228 - accuracy: 0.3117 - val_loss: 2.1437 - val_accuracy: 0.3079\n",
      "Epoch 37/40\n",
      "11802/11802 [==============================] - 36s 3ms/step - loss: 2.1221 - accuracy: 0.3121 - val_loss: 2.1412 - val_accuracy: 0.3082\n",
      "Epoch 38/40\n",
      "11802/11802 [==============================] - 36s 3ms/step - loss: 2.1214 - accuracy: 0.3121 - val_loss: 2.1375 - val_accuracy: 0.3107\n",
      "Epoch 39/40\n",
      "11802/11802 [==============================] - 36s 3ms/step - loss: 2.1211 - accuracy: 0.3127 - val_loss: 2.1365 - val_accuracy: 0.3117\n",
      "Epoch 40/40\n",
      "11802/11802 [==============================] - 36s 3ms/step - loss: 2.1202 - accuracy: 0.3126 - val_loss: 2.1358 - val_accuracy: 0.3113\n"
     ]
    }
   ],
   "source": [
    "X = df[['dong', 'hour', 'week', 'money', 'delivery_time']]\n",
    "y = df['food_ord']\n",
    "\n",
    "X = pd.get_dummies(X)\n",
    "X = X.reset_index(drop=True)\n",
    "\n",
    "X_train, X_test, y_train, y_test = train_test_split(X, y, test_size=0.3)\n",
    "X_train, X_val, y_train, y_val = train_test_split(X_train, y_train, test_size=0.3)\n",
    "\n",
    "y_train = to_categorical(y_train)\n",
    "y_val = to_categorical(y_val)\n",
    "\n",
    "scaler = MinMaxScaler()\n",
    "\n",
    "X_train = scaler.fit_transform(X_train)\n",
    "X_val = scaler.fit_transform(X_val)\n",
    "X_test = scaler.transform(X_test)\n",
    "\n",
    "keras.backend.clear_session()\n",
    "\n",
    "model = keras.models.Sequential()\n",
    "\n",
    "model.add(keras.layers.Dense(15, input_shape=(None, 34), activation='relu'))\n",
    "model.add(keras.layers.Dense(15, activation='softmax'))\n",
    "\n",
    "model.compile(loss = 'categorical_crossentropy', optimizer = 'adam', metrics = 'accuracy')\n",
    "\n",
    "history = model.fit(X_train,\n",
    "                    y_train,\n",
    "                    epochs=40,\n",
    "                    #batch_size=512,\n",
    "                    validation_data=(X_val, y_val))"
   ]
  },
  {
   "cell_type": "code",
   "execution_count": 175,
   "metadata": {},
   "outputs": [
    {
     "name": "stdout",
     "output_type": "stream",
     "text": [
      "WARNING:tensorflow:Model was constructed with shape (None, None, 34) for input Tensor(\"dense_input:0\", shape=(None, None, 34), dtype=float32), but it was called on an input with incompatible shape (None, 34).\n",
      "0.31218887721164784\n"
     ]
    }
   ],
   "source": [
    "test_pred = model.predict(X_test)\n",
    "test_pred_cl = model.predict_classes(X_test)\n",
    "print(accuracy_score(y_test, test_pred_cl))"
   ]
  },
  {
   "cell_type": "markdown",
   "metadata": {},
   "source": [
    "## k겹 교차검증"
   ]
  },
  {
   "cell_type": "code",
   "execution_count": 207,
   "metadata": {},
   "outputs": [],
   "source": [
    "X = df[['dong', 'hour', 'week', 'money', 'delivery_time']]\n",
    "y = df['food_ord']\n",
    "\n",
    "X = pd.get_dummies(X)\n",
    "X = X.reset_index(drop=True)\n",
    "\n",
    "train_data, test_data, train_targets, test_targets = train_test_split(X, y, test_size=0.3)\n",
    "\n",
    "train_targets = to_categorical(train_targets)"
   ]
  },
  {
   "cell_type": "code",
   "execution_count": 211,
   "metadata": {},
   "outputs": [],
   "source": [
    "from keras import models\n",
    "from keras import layers\n",
    "\n",
    "def build_model():\n",
    "    model = keras.models.Sequential()\n",
    "    model.add(keras.layers.Dense(15, input_shape=(None, 34), activation='relu'))\n",
    "    model.add(keras.layers.Dense(15, activation='softmax'))\n",
    "    model.compile(loss = 'categorical_crossentropy', optimizer = 'adam', metrics = 'accuracy')\n",
    "    return model"
   ]
  },
  {
   "cell_type": "code",
   "execution_count": null,
   "metadata": {},
   "outputs": [
    {
     "name": "stdout",
     "output_type": "stream",
     "text": [
      "처리중인 폴드 # 0\n",
      "WARNING:tensorflow:Model was constructed with shape (None, None, 34) for input Tensor(\"dense_6_input:0\", shape=(None, None, 34), dtype=float32), but it was called on an input with incompatible shape (1, 34).\n",
      "WARNING:tensorflow:Model was constructed with shape (None, None, 34) for input Tensor(\"dense_6_input:0\", shape=(None, None, 34), dtype=float32), but it was called on an input with incompatible shape (1, 34).\n",
      "WARNING:tensorflow:Model was constructed with shape (None, None, 34) for input Tensor(\"dense_6_input:0\", shape=(None, None, 34), dtype=float32), but it was called on an input with incompatible shape (None, 34).\n",
      "처리중인 폴드 # 1\n",
      "WARNING:tensorflow:Model was constructed with shape (None, None, 34) for input Tensor(\"dense_8_input:0\", shape=(None, None, 34), dtype=float32), but it was called on an input with incompatible shape (1, 34).\n",
      "WARNING:tensorflow:Model was constructed with shape (None, None, 34) for input Tensor(\"dense_8_input:0\", shape=(None, None, 34), dtype=float32), but it was called on an input with incompatible shape (1, 34).\n"
     ]
    }
   ],
   "source": [
    "k = 5\n",
    "\n",
    "num_val_samples = len(train_data) // k\n",
    "num_epochs = 10\n",
    "all_scores = []\n",
    "\n",
    "for i in range(k):\n",
    "    print('처리중인 폴드 #', i)\n",
    "    val_data = train_data[i*num_val_samples: (i+1)*num_val_samples]\n",
    "    val_targets = train_targets[i*num_val_samples: (i+1)*num_val_samples]\n",
    "    \n",
    "    partial_train_data = np.concatenate(\n",
    "        [train_data[:i*num_val_samples],\n",
    "         train_data[(i+1)*num_val_samples:]],\n",
    "        axis=0)\n",
    "    \n",
    "    partial_train_targets = np.concatenate(\n",
    "        [train_targets[:i*num_val_samples],\n",
    "         train_targets[(i+1)*num_val_samples:]],\n",
    "        axis=0)\n",
    "    \n",
    "    model = build_model()\n",
    "    model.fit(partial_train_data, partial_train_targets,\n",
    "              epochs=num_epochs, batch_size=1, verbose=0)\n",
    "    val_mse, val_mae = model.evaluate(val_data, val_targets, verbose=0)\n",
    "    all_scores.append(val_mae)"
   ]
  },
  {
   "cell_type": "code",
   "execution_count": 210,
   "metadata": {},
   "outputs": [
    {
     "ename": "SyntaxError",
     "evalue": "keyword can't be an expression (<ipython-input-210-26bfcea29015>, line 20)",
     "output_type": "error",
     "traceback": [
      "\u001b[0;36m  File \u001b[0;32m\"<ipython-input-210-26bfcea29015>\"\u001b[0;36m, line \u001b[0;32m20\u001b[0m\n\u001b[0;31m    model.fit(partial_train_data, partial_train_targets.\u001b[0m\n\u001b[0m                                 ^\u001b[0m\n\u001b[0;31mSyntaxError\u001b[0m\u001b[0;31m:\u001b[0m keyword can't be an expression\n"
     ]
    }
   ],
   "source": [
    "num_epochs = 500\n",
    "all_mae_histories = []\n",
    "\n",
    "for i in range(k):\n",
    "    print('처리중인 폴드#', i)\n",
    "    val_data = train_data[i*num_val_samples: (i+1)*num_val_samples]\n",
    "    val_targets = train_targets[i*num_val_samples: (i+1)*num_val_samples]\n",
    "    \n",
    "    partial_train_data = np.concatenate(\n",
    "        [train_data[:i*num_val_samples],\n",
    "         train_data[(i+1)*num_val_samples:]],\n",
    "        axis=0)\n",
    "    \n",
    "    partial_train_targets = np.concatenate(\n",
    "        [train_targets[:i*num_val_samples],\n",
    "         train_targets[(i+1)*num_val_samples:]],\n",
    "        axis=0)\n",
    "    \n",
    "    model = build_model()\n",
    "    model.fit(partial_train_data, partial_train_targets,\n",
    "              epochs=num_epochs, batch_size=1, verbose=0)\n",
    "    val_mse, val_mae = model.evaluate(val_data, val_targets, verbose=0)\n",
    "    all_scores.append(val_mae)"
   ]
  },
  {
   "cell_type": "code",
   "execution_count": null,
   "metadata": {},
   "outputs": [],
   "source": [
    "average_mae_history = [np.mean([x[i] for x in all_mae_histories]) for i in range(num_epochs)]"
   ]
  },
  {
   "cell_type": "code",
   "execution_count": null,
   "metadata": {},
   "outputs": [],
   "source": [
    "plt.plot(range(1, len(average_mae_history) + 1), average_mae_history)\n",
    "plt.xlabel('Epochs')\n",
    "plt.ylabel('Validation MAE')\n",
    "plt.show()"
   ]
  },
  {
   "cell_type": "code",
   "execution_count": null,
   "metadata": {},
   "outputs": [],
   "source": [
    "def smooth_curve(points, factor=0.9):\n",
    "    smoothed_points = []\n",
    "    for point in points:\n",
    "        if smoothed_points:\n",
    "            previous = smoothed_points[-1]\n",
    "            smoothed_points.append(previous*factor + point*(1-factor))\n",
    "        else:\n",
    "            smoothed_points.append(point)\n",
    "    return smoothed_points\n",
    "\n",
    "smooth_mae_history = smooth_curve(average_mae_histroy[10:])\n",
    "\n",
    "plt.plot(range(1, len(smooth_mae_history) + 1), smooth_mae_history)\n",
    "plt.xlabel('Epochs')\n",
    "plt.ylabel('Validation MAE')\n",
    "plt.show()"
   ]
  },
  {
   "cell_type": "markdown",
   "metadata": {},
   "source": [
    "## 중동만 예측\n",
    "- \"중동에서는\" 몇시, 무슨요일, 얼마를 가지고, 얼마의 배달시간을 원한다면 무슨 음식을 먹을 수 있을까?"
   ]
  },
  {
   "cell_type": "code",
   "execution_count": 187,
   "metadata": {},
   "outputs": [],
   "source": [
    "j = df[df['dong'] == '중동']\n",
    "\n",
    "food_ord = {'카페/디저트':0, '돈까스/일식':1, '치킨':2, '분식':3, '패스트푸드':4,\n",
    "            '족발/보쌈':5, '찜탕':6, '한식':7, '중식':8, '아시안/양식':9,\n",
    "            '도시락':10, '피자':11, '회':12, '배달전문업체':13, '야식':14}\n",
    "\n",
    "j['food_ord'] = j.food.map(food_ord)"
   ]
  },
  {
   "cell_type": "code",
   "execution_count": 188,
   "metadata": {},
   "outputs": [],
   "source": [
    "X = j[['hour', 'week', 'money', 'cook_time', 'delivery_time']]\n",
    "y = j['food_ord']\n",
    "\n",
    "X = pd.get_dummies(X)\n",
    "X = X.reset_index(drop=True)\n",
    "\n",
    "X_train, X_test, y_train, y_test = train_test_split(X, y, test_size=0.3)\n",
    "X_train, X_val, y_train, y_val = train_test_split(X_train, y_train, test_size=0.3)\n",
    "\n",
    "y_train = to_categorical(y_train)\n",
    "y_val = to_categorical(y_val)"
   ]
  },
  {
   "cell_type": "code",
   "execution_count": 189,
   "metadata": {},
   "outputs": [],
   "source": [
    "scaler = MinMaxScaler()\n",
    "\n",
    "X_train = scaler.fit_transform(X_train)\n",
    "X_test = scaler.transform(X_test)"
   ]
  },
  {
   "cell_type": "code",
   "execution_count": 194,
   "metadata": {},
   "outputs": [],
   "source": [
    "keras.backend.clear_session()\n",
    "\n",
    "model = keras.models.Sequential()\n",
    "\n",
    "model.add(keras.layers.Dense(15, input_shape=(None, 11), activation='softmax'))\n",
    "model.add(keras.layers.Dense(15, activation='softmax'))\n",
    "\n",
    "model.compile(loss = 'categorical_crossentropy', optimizer = 'adam', metrics = 'accuracy')"
   ]
  },
  {
   "cell_type": "code",
   "execution_count": 195,
   "metadata": {},
   "outputs": [
    {
     "name": "stdout",
     "output_type": "stream",
     "text": [
      "Model: \"sequential\"\n",
      "_________________________________________________________________\n",
      "Layer (type)                 Output Shape              Param #   \n",
      "=================================================================\n",
      "dense (Dense)                (None, None, 15)          180       \n",
      "_________________________________________________________________\n",
      "dense_1 (Dense)              (None, None, 15)          240       \n",
      "=================================================================\n",
      "Total params: 420\n",
      "Trainable params: 420\n",
      "Non-trainable params: 0\n",
      "_________________________________________________________________\n"
     ]
    }
   ],
   "source": [
    "model.summary()"
   ]
  },
  {
   "cell_type": "code",
   "execution_count": 196,
   "metadata": {
    "scrolled": true
   },
   "outputs": [
    {
     "name": "stdout",
     "output_type": "stream",
     "text": [
      "Epoch 1/30\n",
      "WARNING:tensorflow:Model was constructed with shape (None, None, 11) for input Tensor(\"dense_input:0\", shape=(None, None, 11), dtype=float32), but it was called on an input with incompatible shape (None, 11).\n",
      "WARNING:tensorflow:Model was constructed with shape (None, None, 11) for input Tensor(\"dense_input:0\", shape=(None, None, 11), dtype=float32), but it was called on an input with incompatible shape (None, 11).\n",
      "2157/2165 [============================>.] - ETA: 0s - loss: 2.3494 - accuracy: 0.2452WARNING:tensorflow:Model was constructed with shape (None, None, 11) for input Tensor(\"dense_input:0\", shape=(None, None, 11), dtype=float32), but it was called on an input with incompatible shape (None, 11).\n",
      "2165/2165 [==============================] - 7s 3ms/step - loss: 2.3490 - accuracy: 0.2453 - val_loss: 2.3162 - val_accuracy: 0.2430\n",
      "Epoch 2/30\n",
      "2165/2165 [==============================] - 7s 3ms/step - loss: 2.2991 - accuracy: 0.2441 - val_loss: 2.3200 - val_accuracy: 0.2430\n",
      "Epoch 3/30\n",
      "2165/2165 [==============================] - 7s 3ms/step - loss: 2.2944 - accuracy: 0.2405 - val_loss: 2.3293 - val_accuracy: 0.2430\n",
      "Epoch 4/30\n",
      "2165/2165 [==============================] - 7s 3ms/step - loss: 2.2885 - accuracy: 0.2575 - val_loss: 2.3526 - val_accuracy: 0.2430\n",
      "Epoch 5/30\n",
      "2165/2165 [==============================] - 7s 3ms/step - loss: 2.2818 - accuracy: 0.2709 - val_loss: 2.3970 - val_accuracy: 0.2430\n",
      "Epoch 6/30\n",
      "2165/2165 [==============================] - 7s 3ms/step - loss: 2.2746 - accuracy: 0.2751 - val_loss: 2.4708 - val_accuracy: 0.1027\n",
      "Epoch 7/30\n",
      "2165/2165 [==============================] - 7s 3ms/step - loss: 2.2662 - accuracy: 0.2779 - val_loss: 2.5770 - val_accuracy: 0.1025\n",
      "Epoch 8/30\n",
      "2165/2165 [==============================] - 7s 3ms/step - loss: 2.2565 - accuracy: 0.2782 - val_loss: 2.7099 - val_accuracy: 0.1023\n",
      "Epoch 9/30\n",
      "2165/2165 [==============================] - 7s 3ms/step - loss: 2.2472 - accuracy: 0.2792 - val_loss: 2.8640 - val_accuracy: 0.1012\n",
      "Epoch 10/30\n",
      "2165/2165 [==============================] - 7s 3ms/step - loss: 2.2386 - accuracy: 0.2801 - val_loss: 2.9838 - val_accuracy: 0.1011\n",
      "Epoch 11/30\n",
      "2165/2165 [==============================] - 7s 3ms/step - loss: 2.2289 - accuracy: 0.2832 - val_loss: 3.0881 - val_accuracy: 0.1020\n",
      "Epoch 12/30\n",
      "2165/2165 [==============================] - 7s 3ms/step - loss: 2.2165 - accuracy: 0.2926 - val_loss: 3.1845 - val_accuracy: 0.1023\n",
      "Epoch 13/30\n",
      "2165/2165 [==============================] - 7s 3ms/step - loss: 2.2061 - accuracy: 0.2949 - val_loss: 3.2713 - val_accuracy: 0.1025\n",
      "Epoch 14/30\n",
      "2165/2165 [==============================] - 7s 3ms/step - loss: 2.1989 - accuracy: 0.2956 - val_loss: 3.3526 - val_accuracy: 0.1025\n",
      "Epoch 15/30\n",
      "2165/2165 [==============================] - 7s 3ms/step - loss: 2.1944 - accuracy: 0.2965 - val_loss: 3.4091 - val_accuracy: 0.1025\n",
      "Epoch 16/30\n",
      "2165/2165 [==============================] - 7s 3ms/step - loss: 2.1910 - accuracy: 0.2968 - val_loss: 3.4318 - val_accuracy: 0.1025\n",
      "Epoch 17/30\n",
      "2165/2165 [==============================] - 7s 3ms/step - loss: 2.1885 - accuracy: 0.2975 - val_loss: 3.4735 - val_accuracy: 0.1025\n",
      "Epoch 18/30\n",
      "2165/2165 [==============================] - 7s 3ms/step - loss: 2.1868 - accuracy: 0.2979 - val_loss: 3.4912 - val_accuracy: 0.1025\n",
      "Epoch 19/30\n",
      "2165/2165 [==============================] - 7s 3ms/step - loss: 2.1853 - accuracy: 0.2984 - val_loss: 3.4879 - val_accuracy: 0.1025\n",
      "Epoch 20/30\n",
      "2165/2165 [==============================] - 7s 3ms/step - loss: 2.1841 - accuracy: 0.2977 - val_loss: 3.5148 - val_accuracy: 0.1025\n",
      "Epoch 21/30\n",
      "2165/2165 [==============================] - 7s 3ms/step - loss: 2.1832 - accuracy: 0.2982 - val_loss: 3.5002 - val_accuracy: 0.1025\n",
      "Epoch 22/30\n",
      "2165/2165 [==============================] - 7s 3ms/step - loss: 2.1822 - accuracy: 0.2987 - val_loss: 3.5134 - val_accuracy: 0.1025\n",
      "Epoch 23/30\n",
      "2165/2165 [==============================] - 7s 3ms/step - loss: 2.1815 - accuracy: 0.2987 - val_loss: 3.5171 - val_accuracy: 0.1025\n",
      "Epoch 24/30\n",
      "2165/2165 [==============================] - 7s 3ms/step - loss: 2.1808 - accuracy: 0.2997 - val_loss: 3.5228 - val_accuracy: 0.1025\n",
      "Epoch 25/30\n",
      "2165/2165 [==============================] - 7s 3ms/step - loss: 2.1802 - accuracy: 0.2990 - val_loss: 3.5322 - val_accuracy: 0.1025\n",
      "Epoch 26/30\n",
      "2165/2165 [==============================] - 7s 3ms/step - loss: 2.1796 - accuracy: 0.2990 - val_loss: 3.5236 - val_accuracy: 0.1023\n",
      "Epoch 27/30\n",
      "2165/2165 [==============================] - 7s 3ms/step - loss: 2.1791 - accuracy: 0.2996 - val_loss: 3.5434 - val_accuracy: 0.1020\n",
      "Epoch 28/30\n",
      "2165/2165 [==============================] - 7s 3ms/step - loss: 2.1785 - accuracy: 0.2992 - val_loss: 3.5406 - val_accuracy: 0.1016\n",
      "Epoch 29/30\n",
      "2165/2165 [==============================] - 7s 3ms/step - loss: 2.1780 - accuracy: 0.2995 - val_loss: 3.5345 - val_accuracy: 0.1013\n",
      "Epoch 30/30\n",
      "2165/2165 [==============================] - 7s 3ms/step - loss: 2.1775 - accuracy: 0.2990 - val_loss: 3.5467 - val_accuracy: 0.1003\n"
     ]
    }
   ],
   "source": [
    "history = model.fit(X_train,\n",
    "                    y_train,\n",
    "                    epochs=30,\n",
    "                    #batch_size=512,\n",
    "                    validation_data=(X_val, y_val))"
   ]
  },
  {
   "cell_type": "code",
   "execution_count": 197,
   "metadata": {},
   "outputs": [
    {
     "data": {
      "image/png": "[encoded data removed]",
      "text/plain": [
       "<Figure size 432x288 with 1 Axes>"
      ]
     },
     "metadata": {
      "needs_background": "light"
     },
     "output_type": "display_data"
    }
   ],
   "source": [
    "loss = history.history['loss']\n",
    "val_loss = history.history['val_loss']\n",
    "\n",
    "epochs = range(1, len(loss)+1)\n",
    "\n",
    "plt.plot(epochs, loss, 'bo', label='Training loss')\n",
    "plt.plot(epochs, val_loss, 'b', label='Validation loss')\n",
    "plt.title('Training and validation loss')\n",
    "plt.xlabel('Epochs')\n",
    "plt.ylabel('Loss')\n",
    "plt.legend()\n",
    "\n",
    "plt.show()"
   ]
  },
  {
   "cell_type": "code",
   "execution_count": 198,
   "metadata": {},
   "outputs": [
    {
     "data": {
      "image/png": "[encoded data removed]",
      "text/plain": [
       "<Figure size 432x288 with 1 Axes>"
      ]
     },
     "metadata": {
      "needs_background": "light"
     },
     "output_type": "display_data"
    }
   ],
   "source": [
    "plt.clf()\n",
    "\n",
    "acc = history.history['accuracy']\n",
    "val_acc = history.history['val_accuracy']\n",
    "\n",
    "plt.plot(epochs, acc, 'bo', label='Training acc')\n",
    "plt.plot(epochs, val_acc, 'b', label='Validation acc')\n",
    "plt.title('Training and validation accuracy')\n",
    "plt.xlabel('Epochs')\n",
    "plt.ylabel('Accuracy')\n",
    "plt.legend()\n",
    "\n",
    "plt.show()"
   ]
  },
  {
   "cell_type": "code",
   "execution_count": 199,
   "metadata": {},
   "outputs": [
    {
     "name": "stdout",
     "output_type": "stream",
     "text": [
      "WARNING:tensorflow:Model was constructed with shape (None, None, 11) for input Tensor(\"dense_input:0\", shape=(None, None, 11), dtype=float32), but it was called on an input with incompatible shape (None, 11).\n"
     ]
    }
   ],
   "source": [
    "test_pred = model.predict(X_test)\n",
    "test_pred_cl = model.predict_classes(X_test)"
   ]
  },
  {
   "cell_type": "code",
   "execution_count": 200,
   "metadata": {},
   "outputs": [
    {
     "name": "stdout",
     "output_type": "stream",
     "text": [
      "0.2957819536462877\n"
     ]
    }
   ],
   "source": [
    "print(accuracy_score(y_test, test_pred_cl))"
   ]
  },
  {
   "cell_type": "code",
   "execution_count": 201,
   "metadata": {},
   "outputs": [],
   "source": [
    "from sklearn.linear_model import LogisticRegression"
   ]
  },
  {
   "cell_type": "code",
   "execution_count": 203,
   "metadata": {},
   "outputs": [
    {
     "name": "stdout",
     "output_type": "stream",
     "text": [
      "학습 집합 정확도: 0.247\n",
      "테스트 집합 정확도: 0.247\n"
     ]
    }
   ],
   "source": [
    "X = df[['dong', 'hour', 'week', 'money', 'delivery_time']]\n",
    "y = df['food_ord']\n",
    "\n",
    "X = pd.get_dummies(X)\n",
    "X = X.reset_index(drop=True)\n",
    "\n",
    "X_train, X_test, y_train, y_test = train_test_split(X, y, test_size=0.3)\n",
    "\n",
    "log_reg = LogisticRegression().fit(X_train, y_train)\n",
    "\n",
    "print(\"학습 집합 정확도: {:.3f}\".format(log_reg.score(X_train, y_train)))\n",
    "print(\"테스트 집합 정확도: {:.3f}\".format(log_reg.score(X_test, y_test)))"
   ]
  },
  {
   "cell_type": "code",
   "execution_count": null,
   "metadata": {},
   "outputs": [],
   "source": []
  },
  {
   "cell_type": "code",
   "execution_count": null,
   "metadata": {},
   "outputs": [],
   "source": []
  }
 ],
 "metadata": {
  "kernelspec": {
   "display_name": "tf2.3.0-keras2.4.0-py3.7-cuda10.1",
   "language": "python",
   "name": "tf2.3.0-keras2.4.0-py3.7-cuda10.1"
  },
  "language_info": {
   "codemirror_mode": {
    "name": "ipython",
    "version": 3
   },
   "file_extension": ".py",
   "mimetype": "text/x-python",
   "name": "python",
   "nbconvert_exporter": "python",
   "pygments_lexer": "ipython3",
   "version": "3.7.5"
  }
 },
 "nbformat": 4,
 "nbformat_minor": 4
}
