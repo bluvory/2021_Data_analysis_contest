{
 "cells": [
  {
   "cell_type": "code",
   "execution_count": 1,
   "metadata": {},
   "outputs": [],
   "source": [
    "import pandas as pd\n",
    "import numpy as np\n",
    "import warnings\n",
    "import datetime\n",
    "import seaborn as sns\n",
    "import matplotlib.pyplot as plt\n",
    "warnings.filterwarnings('ignore')"
   ]
  },
  {
   "cell_type": "code",
   "execution_count": 2,
   "metadata": {},
   "outputs": [
    {
     "name": "stdout",
     "output_type": "stream",
     "text": [
      "(1032409, 32)\n"
     ]
    },
    {
     "data": {
      "text/html": [
       "<div>\n",
       "<style scoped>\n",
       "    .dataframe tbody tr th:only-of-type {\n",
       "        vertical-align: middle;\n",
       "    }\n",
       "\n",
       "    .dataframe tbody tr th {\n",
       "        vertical-align: top;\n",
       "    }\n",
       "\n",
       "    .dataframe thead th {\n",
       "        text-align: right;\n",
       "    }\n",
       "</style>\n",
       "<table border=\"1\" class=\"dataframe\">\n",
       "  <thead>\n",
       "    <tr style=\"text-align: right;\">\n",
       "      <th></th>\n",
       "      <th>SERIAL_NUMBER</th>\n",
       "      <th>PROCESS_DT</th>\n",
       "      <th>DLVR_RQESTER_ID</th>\n",
       "      <th>DLVR_REQUST_STTUS_VALUE</th>\n",
       "      <th>DLVR_RCEPT_CMPNY_ID</th>\n",
       "      <th>DLVR_STORE_ID</th>\n",
       "      <th>DLVR_STORE_INDUTY_NM</th>\n",
       "      <th>DLVR_STORE_LEGALDONG_CODE</th>\n",
       "      <th>DLVR_STORE_SIDO</th>\n",
       "      <th>DLVR_STORE_SIGUNGU</th>\n",
       "      <th>...</th>\n",
       "      <th>DLVR_AMOUNT</th>\n",
       "      <th>CALL_RLAY_FEE_AMOUNT</th>\n",
       "      <th>GOODS_AMOUNT</th>\n",
       "      <th>SETLE_KND_VALUE</th>\n",
       "      <th>SETLE_CARD_CN</th>\n",
       "      <th>DLVR_RCEPT_TIME</th>\n",
       "      <th>DLVR_CARALC_TIME</th>\n",
       "      <th>DLVR_RECPT_TIME</th>\n",
       "      <th>DLVR_COMPT_TIME</th>\n",
       "      <th>DLVR_CANCL_TIME</th>\n",
       "    </tr>\n",
       "  </thead>\n",
       "  <tbody>\n",
       "    <tr>\n",
       "      <th>7</th>\n",
       "      <td>163786</td>\n",
       "      <td>2019-07-15</td>\n",
       "      <td>C000077</td>\n",
       "      <td>1</td>\n",
       "      <td>C000077</td>\n",
       "      <td>S0021796</td>\n",
       "      <td>카페/디저트</td>\n",
       "      <td>4119011500</td>\n",
       "      <td>경기도</td>\n",
       "      <td>부천시</td>\n",
       "      <td>...</td>\n",
       "      <td>3000</td>\n",
       "      <td>200</td>\n",
       "      <td>17800</td>\n",
       "      <td>2</td>\n",
       "      <td>NaN</td>\n",
       "      <td>2019-07-15 11:32:29</td>\n",
       "      <td>2019-07-15 11:32:49</td>\n",
       "      <td>2019-07-15 11:40:39</td>\n",
       "      <td>2019-07-15 11:44:44</td>\n",
       "      <td>\\N</td>\n",
       "    </tr>\n",
       "    <tr>\n",
       "      <th>8</th>\n",
       "      <td>163805</td>\n",
       "      <td>2019-07-15</td>\n",
       "      <td>C000077</td>\n",
       "      <td>1</td>\n",
       "      <td>C000077</td>\n",
       "      <td>S0021884</td>\n",
       "      <td>돈까스/일식</td>\n",
       "      <td>4119011500</td>\n",
       "      <td>경기도</td>\n",
       "      <td>부천시</td>\n",
       "      <td>...</td>\n",
       "      <td>3000</td>\n",
       "      <td>200</td>\n",
       "      <td>12000</td>\n",
       "      <td>1</td>\n",
       "      <td>승인:비씨카드사</td>\n",
       "      <td>2019-07-15 11:13:37</td>\n",
       "      <td>2019-07-15 11:14:02</td>\n",
       "      <td>2019-07-15 11:22:04</td>\n",
       "      <td>2019-07-15 11:28:24</td>\n",
       "      <td>\\N</td>\n",
       "    </tr>\n",
       "    <tr>\n",
       "      <th>11</th>\n",
       "      <td>163895</td>\n",
       "      <td>2019-07-15</td>\n",
       "      <td>C000077</td>\n",
       "      <td>1</td>\n",
       "      <td>C000077</td>\n",
       "      <td>S0021739</td>\n",
       "      <td>치킨</td>\n",
       "      <td>4119011300</td>\n",
       "      <td>경기도</td>\n",
       "      <td>부천시</td>\n",
       "      <td>...</td>\n",
       "      <td>3000</td>\n",
       "      <td>200</td>\n",
       "      <td>29900</td>\n",
       "      <td>1</td>\n",
       "      <td>승인:KB국민카드</td>\n",
       "      <td>2019-07-15 11:29:06</td>\n",
       "      <td>2019-07-15 11:29:25</td>\n",
       "      <td>2019-07-15 11:39:54</td>\n",
       "      <td>2019-07-15 11:42:29</td>\n",
       "      <td>\\N</td>\n",
       "    </tr>\n",
       "    <tr>\n",
       "      <th>12</th>\n",
       "      <td>163922</td>\n",
       "      <td>2019-07-15</td>\n",
       "      <td>C000077</td>\n",
       "      <td>1</td>\n",
       "      <td>C000077</td>\n",
       "      <td>S0021772</td>\n",
       "      <td>분식</td>\n",
       "      <td>4119011500</td>\n",
       "      <td>경기도</td>\n",
       "      <td>부천시</td>\n",
       "      <td>...</td>\n",
       "      <td>3000</td>\n",
       "      <td>200</td>\n",
       "      <td>14500</td>\n",
       "      <td>2</td>\n",
       "      <td>NaN</td>\n",
       "      <td>2019-07-15 11:35:22</td>\n",
       "      <td>2019-07-15 11:38:30</td>\n",
       "      <td>2019-07-15 11:48:10</td>\n",
       "      <td>2019-07-15 11:54:29</td>\n",
       "      <td>\\N</td>\n",
       "    </tr>\n",
       "    <tr>\n",
       "      <th>13</th>\n",
       "      <td>163952</td>\n",
       "      <td>2019-07-15</td>\n",
       "      <td>C000077</td>\n",
       "      <td>1</td>\n",
       "      <td>C000077</td>\n",
       "      <td>S0021739</td>\n",
       "      <td>치킨</td>\n",
       "      <td>4119011300</td>\n",
       "      <td>경기도</td>\n",
       "      <td>부천시</td>\n",
       "      <td>...</td>\n",
       "      <td>3000</td>\n",
       "      <td>200</td>\n",
       "      <td>16000</td>\n",
       "      <td>1</td>\n",
       "      <td>승인:NH농협카드</td>\n",
       "      <td>2019-07-15 12:12:14</td>\n",
       "      <td>2019-07-15 12:27:17</td>\n",
       "      <td>2019-07-15 12:27:40</td>\n",
       "      <td>2019-07-15 12:30:54</td>\n",
       "      <td>\\N</td>\n",
       "    </tr>\n",
       "  </tbody>\n",
       "</table>\n",
       "<p>5 rows × 32 columns</p>\n",
       "</div>"
      ],
      "text/plain": [
       "    SERIAL_NUMBER  PROCESS_DT DLVR_RQESTER_ID  DLVR_REQUST_STTUS_VALUE  \\\n",
       "7          163786  2019-07-15         C000077                        1   \n",
       "8          163805  2019-07-15         C000077                        1   \n",
       "11         163895  2019-07-15         C000077                        1   \n",
       "12         163922  2019-07-15         C000077                        1   \n",
       "13         163952  2019-07-15         C000077                        1   \n",
       "\n",
       "   DLVR_RCEPT_CMPNY_ID DLVR_STORE_ID DLVR_STORE_INDUTY_NM  \\\n",
       "7              C000077      S0021796               카페/디저트   \n",
       "8              C000077      S0021884               돈까스/일식   \n",
       "11             C000077      S0021739                   치킨   \n",
       "12             C000077      S0021772                   분식   \n",
       "13             C000077      S0021739                   치킨   \n",
       "\n",
       "    DLVR_STORE_LEGALDONG_CODE DLVR_STORE_SIDO DLVR_STORE_SIGUNGU  ...  \\\n",
       "7                  4119011500             경기도                부천시  ...   \n",
       "8                  4119011500             경기도                부천시  ...   \n",
       "11                 4119011300             경기도                부천시  ...   \n",
       "12                 4119011500             경기도                부천시  ...   \n",
       "13                 4119011300             경기도                부천시  ...   \n",
       "\n",
       "   DLVR_AMOUNT CALL_RLAY_FEE_AMOUNT  GOODS_AMOUNT SETLE_KND_VALUE  \\\n",
       "7         3000                  200         17800               2   \n",
       "8         3000                  200         12000               1   \n",
       "11        3000                  200         29900               1   \n",
       "12        3000                  200         14500               2   \n",
       "13        3000                  200         16000               1   \n",
       "\n",
       "    SETLE_CARD_CN      DLVR_RCEPT_TIME     DLVR_CARALC_TIME  \\\n",
       "7             NaN  2019-07-15 11:32:29  2019-07-15 11:32:49   \n",
       "8        승인:비씨카드사  2019-07-15 11:13:37  2019-07-15 11:14:02   \n",
       "11      승인:KB국민카드  2019-07-15 11:29:06  2019-07-15 11:29:25   \n",
       "12            NaN  2019-07-15 11:35:22  2019-07-15 11:38:30   \n",
       "13      승인:NH농협카드  2019-07-15 12:12:14  2019-07-15 12:27:17   \n",
       "\n",
       "        DLVR_RECPT_TIME      DLVR_COMPT_TIME  DLVR_CANCL_TIME  \n",
       "7   2019-07-15 11:40:39  2019-07-15 11:44:44               \\N  \n",
       "8   2019-07-15 11:22:04  2019-07-15 11:28:24               \\N  \n",
       "11  2019-07-15 11:39:54  2019-07-15 11:42:29               \\N  \n",
       "12  2019-07-15 11:48:10  2019-07-15 11:54:29               \\N  \n",
       "13  2019-07-15 12:27:40  2019-07-15 12:30:54               \\N  \n",
       "\n",
       "[5 rows x 32 columns]"
      ]
     },
     "execution_count": 2,
     "metadata": {},
     "output_type": "execute_result"
    }
   ],
   "source": [
    "metadata = pd.read_excel('../dataset/1.배달 호출데이터 요약.xlsx', engine='openpyxl', sheet_name='배달호출정보 테이블명세서')\n",
    "meta = pd.DataFrame(metadata[4:].values, columns=metadata[3:4].values[0])\n",
    "\n",
    "data = pd.read_csv('../dataset/CATHOLIC_DATA.csv', header=None)\n",
    "data.columns = meta['영문 컬럼명'].values[:-1]\n",
    "\n",
    "bucheon = data[(data['DLVR_DSTN_SIGUNGU'] == '부천시') & (data['DLVR_REQUST_STTUS_VALUE'] == 1)]\n",
    "print(bucheon.shape)\n",
    "\n",
    "bucheon.head()"
   ]
  },
  {
   "cell_type": "code",
   "execution_count": 3,
   "metadata": {},
   "outputs": [],
   "source": [
    "df = pd.DataFrame()\n",
    "\n",
    "df['date'] = bucheon['PROCESS_DT']\n",
    "df['food'] = bucheon['DLVR_STORE_INDUTY_NM']\n",
    "df['dong'] = bucheon['DLVR_DSTN_DONG']\n",
    "df['money'] = bucheon['GOODS_AMOUNT']\n",
    "\n",
    "df['receipt'] = bucheon['DLVR_RCEPT_TIME']\n",
    "df['dispatch'] = bucheon['DLVR_CARALC_TIME']\n",
    "df['receive'] = bucheon['DLVR_RECPT_TIME']\n",
    "df['done'] = bucheon['DLVR_COMPT_TIME']\n",
    "df['cancle'] = bucheon['DLVR_CANCL_TIME']"
   ]
  },
  {
   "cell_type": "markdown",
   "metadata": {},
   "source": [
    "- 배달배차시간과 배달수령시간이 없는 데이터 제외 (아마도 포장일듯)"
   ]
  },
  {
   "cell_type": "code",
   "execution_count": 4,
   "metadata": {},
   "outputs": [],
   "source": [
    "df = df[(df['receive'] != '\\\\N') & (df['dispatch'] != '\\\\N')]"
   ]
  },
  {
   "cell_type": "code",
   "execution_count": 5,
   "metadata": {},
   "outputs": [],
   "source": [
    "def get_time(x):\n",
    "    h, m, s = x.split()[1].split(':')\n",
    "    return int(h)*3600 + int(m)*60 + int(s)\n",
    "\n",
    "def get_hour(x):\n",
    "    return pd.Timestamp(x.split(' ')[1]).time().hour\n",
    "\n",
    "days = ['월','화','수','목','금','토','일']\n",
    "\n",
    "def get_week(x):\n",
    "    d = pd.Timestamp(x)\n",
    "    return days[datetime.date(d.year, d.month, d.day).weekday()]\n",
    "\n",
    "def is_holiday(x):\n",
    "    if x == '월' or '화' or '수' or '목' or '금':\n",
    "        return 0\n",
    "    elif x == '토' or '일':\n",
    "        return 1"
   ]
  },
  {
   "cell_type": "code",
   "execution_count": 6,
   "metadata": {},
   "outputs": [
    {
     "data": {
      "text/html": [
       "<div>\n",
       "<style scoped>\n",
       "    .dataframe tbody tr th:only-of-type {\n",
       "        vertical-align: middle;\n",
       "    }\n",
       "\n",
       "    .dataframe tbody tr th {\n",
       "        vertical-align: top;\n",
       "    }\n",
       "\n",
       "    .dataframe thead th {\n",
       "        text-align: right;\n",
       "    }\n",
       "</style>\n",
       "<table border=\"1\" class=\"dataframe\">\n",
       "  <thead>\n",
       "    <tr style=\"text-align: right;\">\n",
       "      <th></th>\n",
       "      <th>date</th>\n",
       "      <th>food</th>\n",
       "      <th>dong</th>\n",
       "      <th>money</th>\n",
       "      <th>receipt</th>\n",
       "      <th>dispatch</th>\n",
       "      <th>receive</th>\n",
       "      <th>done</th>\n",
       "      <th>cancle</th>\n",
       "      <th>confirm_time</th>\n",
       "      <th>cook_time</th>\n",
       "      <th>delivery_time</th>\n",
       "      <th>done_time</th>\n",
       "      <th>hour</th>\n",
       "      <th>week</th>\n",
       "      <th>holiday</th>\n",
       "    </tr>\n",
       "  </thead>\n",
       "  <tbody>\n",
       "    <tr>\n",
       "      <th>7</th>\n",
       "      <td>2019-07-15</td>\n",
       "      <td>카페/디저트</td>\n",
       "      <td>범박동</td>\n",
       "      <td>17800</td>\n",
       "      <td>2019-07-15 11:32:29</td>\n",
       "      <td>2019-07-15 11:32:49</td>\n",
       "      <td>2019-07-15 11:40:39</td>\n",
       "      <td>2019-07-15 11:44:44</td>\n",
       "      <td>\\N</td>\n",
       "      <td>20</td>\n",
       "      <td>470</td>\n",
       "      <td>245</td>\n",
       "      <td>735</td>\n",
       "      <td>11</td>\n",
       "      <td>월</td>\n",
       "      <td>0</td>\n",
       "    </tr>\n",
       "    <tr>\n",
       "      <th>8</th>\n",
       "      <td>2019-07-15</td>\n",
       "      <td>돈까스/일식</td>\n",
       "      <td>옥길동</td>\n",
       "      <td>12000</td>\n",
       "      <td>2019-07-15 11:13:37</td>\n",
       "      <td>2019-07-15 11:14:02</td>\n",
       "      <td>2019-07-15 11:22:04</td>\n",
       "      <td>2019-07-15 11:28:24</td>\n",
       "      <td>\\N</td>\n",
       "      <td>25</td>\n",
       "      <td>482</td>\n",
       "      <td>380</td>\n",
       "      <td>887</td>\n",
       "      <td>11</td>\n",
       "      <td>월</td>\n",
       "      <td>0</td>\n",
       "    </tr>\n",
       "    <tr>\n",
       "      <th>11</th>\n",
       "      <td>2019-07-15</td>\n",
       "      <td>치킨</td>\n",
       "      <td>소사본동</td>\n",
       "      <td>29900</td>\n",
       "      <td>2019-07-15 11:29:06</td>\n",
       "      <td>2019-07-15 11:29:25</td>\n",
       "      <td>2019-07-15 11:39:54</td>\n",
       "      <td>2019-07-15 11:42:29</td>\n",
       "      <td>\\N</td>\n",
       "      <td>19</td>\n",
       "      <td>629</td>\n",
       "      <td>155</td>\n",
       "      <td>803</td>\n",
       "      <td>11</td>\n",
       "      <td>월</td>\n",
       "      <td>0</td>\n",
       "    </tr>\n",
       "    <tr>\n",
       "      <th>12</th>\n",
       "      <td>2019-07-15</td>\n",
       "      <td>분식</td>\n",
       "      <td>옥길동</td>\n",
       "      <td>14500</td>\n",
       "      <td>2019-07-15 11:35:22</td>\n",
       "      <td>2019-07-15 11:38:30</td>\n",
       "      <td>2019-07-15 11:48:10</td>\n",
       "      <td>2019-07-15 11:54:29</td>\n",
       "      <td>\\N</td>\n",
       "      <td>188</td>\n",
       "      <td>580</td>\n",
       "      <td>379</td>\n",
       "      <td>1147</td>\n",
       "      <td>11</td>\n",
       "      <td>월</td>\n",
       "      <td>0</td>\n",
       "    </tr>\n",
       "    <tr>\n",
       "      <th>13</th>\n",
       "      <td>2019-07-15</td>\n",
       "      <td>치킨</td>\n",
       "      <td>소사본동</td>\n",
       "      <td>16000</td>\n",
       "      <td>2019-07-15 12:12:14</td>\n",
       "      <td>2019-07-15 12:27:17</td>\n",
       "      <td>2019-07-15 12:27:40</td>\n",
       "      <td>2019-07-15 12:30:54</td>\n",
       "      <td>\\N</td>\n",
       "      <td>903</td>\n",
       "      <td>23</td>\n",
       "      <td>194</td>\n",
       "      <td>1120</td>\n",
       "      <td>12</td>\n",
       "      <td>월</td>\n",
       "      <td>0</td>\n",
       "    </tr>\n",
       "  </tbody>\n",
       "</table>\n",
       "</div>"
      ],
      "text/plain": [
       "          date    food  dong  money              receipt             dispatch  \\\n",
       "7   2019-07-15  카페/디저트   범박동  17800  2019-07-15 11:32:29  2019-07-15 11:32:49   \n",
       "8   2019-07-15  돈까스/일식   옥길동  12000  2019-07-15 11:13:37  2019-07-15 11:14:02   \n",
       "11  2019-07-15      치킨  소사본동  29900  2019-07-15 11:29:06  2019-07-15 11:29:25   \n",
       "12  2019-07-15      분식   옥길동  14500  2019-07-15 11:35:22  2019-07-15 11:38:30   \n",
       "13  2019-07-15      치킨  소사본동  16000  2019-07-15 12:12:14  2019-07-15 12:27:17   \n",
       "\n",
       "                receive                 done cancle  confirm_time  cook_time  \\\n",
       "7   2019-07-15 11:40:39  2019-07-15 11:44:44     \\N            20        470   \n",
       "8   2019-07-15 11:22:04  2019-07-15 11:28:24     \\N            25        482   \n",
       "11  2019-07-15 11:39:54  2019-07-15 11:42:29     \\N            19        629   \n",
       "12  2019-07-15 11:48:10  2019-07-15 11:54:29     \\N           188        580   \n",
       "13  2019-07-15 12:27:40  2019-07-15 12:30:54     \\N           903         23   \n",
       "\n",
       "    delivery_time  done_time  hour week  holiday  \n",
       "7             245        735    11    월        0  \n",
       "8             380        887    11    월        0  \n",
       "11            155        803    11    월        0  \n",
       "12            379       1147    11    월        0  \n",
       "13            194       1120    12    월        0  "
      ]
     },
     "execution_count": 6,
     "metadata": {},
     "output_type": "execute_result"
    }
   ],
   "source": [
    "df['confirm_time'] = abs(df['dispatch'].map(lambda x: get_time(x)) - df['receipt'].map(lambda x: get_time(x)))\n",
    "df['cook_time'] = abs(df['receive'].map(lambda x: get_time(x)) - df['dispatch'].map(lambda x: get_time(x)))\n",
    "df['delivery_time'] = abs(df['done'].map(lambda x: get_time(x)) - df['receive'].map(lambda x: get_time(x)))\n",
    "df['done_time'] = abs(df['done'].map(lambda x: get_time(x)) - df['receipt'].map(lambda x: get_time(x)))\n",
    "\n",
    "df['hour'] = bucheon['DLVR_RCEPT_TIME'].map(lambda x: get_hour(x))\n",
    "df['week'] = bucheon['DLVR_RCEPT_TIME'].map(lambda x: get_week(x))\n",
    "df['holiday'] = df['week'].map(lambda x: is_holiday(x))\n",
    "\n",
    "df.head()"
   ]
  },
  {
   "cell_type": "markdown",
   "metadata": {},
   "source": [
    "- 배달시간이 1분 이하, 2시간(7200초) 이상이면 결측값으로 판단하고 제외한다"
   ]
  },
  {
   "cell_type": "code",
   "execution_count": 7,
   "metadata": {},
   "outputs": [],
   "source": [
    "df = df[(df['delivery_time']>= 60) & (df['delivery_time'] <= 7200)]"
   ]
  },
  {
   "cell_type": "markdown",
   "metadata": {},
   "source": [
    "# 딥러닝"
   ]
  },
  {
   "cell_type": "code",
   "execution_count": 8,
   "metadata": {},
   "outputs": [
    {
     "name": "stderr",
     "output_type": "stream",
     "text": [
      "Using TensorFlow backend.\n"
     ]
    }
   ],
   "source": [
    "import keras\n",
    "from tensorflow.keras.utils import to_categorical\n",
    "from keras.callbacks import EarlyStopping\n",
    "\n",
    "from sklearn.model_selection import train_test_split\n",
    "from sklearn.preprocessing import MinMaxScaler\n",
    "from sklearn.metrics import confusion_matrix, classification_report\n",
    "from sklearn.metrics import accuracy_score, precision_recall_fscore_support"
   ]
  },
  {
   "cell_type": "markdown",
   "metadata": {},
   "source": [
    "## 변수 인코딩"
   ]
  },
  {
   "cell_type": "code",
   "execution_count": 35,
   "metadata": {},
   "outputs": [],
   "source": [
    "food_ord = {'카페/디저트':0, '돈까스/일식':1, '치킨':2, '분식':3, '패스트푸드':4,\n",
    "            '족발/보쌈':5, '찜탕':6, '한식':7, '중식':8, '아시안/양식':9,\n",
    "            '도시락':10, '피자':11, '회':12, '배달전문업체':13, '야식':14}\n",
    "\n",
    "df['food_ord'] = df.food.map(food_ord)"
   ]
  },
  {
   "cell_type": "code",
   "execution_count": 36,
   "metadata": {},
   "outputs": [],
   "source": [
    "X = df[['dong', 'hour', 'week', 'money', 'cook_time', 'delivery_time']]\n",
    "y = df['food_ord']\n",
    "\n",
    "X = pd.get_dummies(X)\n",
    "X = X.reset_index(drop=True)\n",
    "\n",
    "X_train, X_test, y_train, y_test = train_test_split(X, y, test_size=0.3)\n",
    "X_train, X_val, y_train, y_val = train_test_split(X_train, y_train, test_size=0.3)\n",
    "\n",
    "y_train = to_categorical(y_train)\n",
    "y_val = to_categorical(y_val)"
   ]
  },
  {
   "cell_type": "markdown",
   "metadata": {},
   "source": [
    "## 스케일링"
   ]
  },
  {
   "cell_type": "code",
   "execution_count": 37,
   "metadata": {},
   "outputs": [],
   "source": [
    "scaler = MinMaxScaler()\n",
    "\n",
    "X_train = scaler.fit_transform(X_train)\n",
    "X_val = scaler.fit_transform(X_val)\n",
    "X_test = scaler.transform(X_test)"
   ]
  },
  {
   "cell_type": "markdown",
   "metadata": {},
   "source": [
    "## 모델 훈련"
   ]
  },
  {
   "cell_type": "code",
   "execution_count": 38,
   "metadata": {},
   "outputs": [],
   "source": [
    "keras.backend.clear_session()\n",
    "\n",
    "model = keras.models.Sequential()\n",
    "\n",
    "model.add(keras.layers.Dense(15, input_shape=(None, 35), activation='relu'))\n",
    "model.add(keras.layers.Dense(15, activation='softmax'))\n",
    "\n",
    "model.compile(loss = 'categorical_crossentropy', optimizer = 'adam', metrics = 'accuracy')"
   ]
  },
  {
   "cell_type": "code",
   "execution_count": 39,
   "metadata": {},
   "outputs": [
    {
     "name": "stdout",
     "output_type": "stream",
     "text": [
      "Model: \"sequential\"\n",
      "_________________________________________________________________\n",
      "Layer (type)                 Output Shape              Param #   \n",
      "=================================================================\n",
      "dense (Dense)                (None, None, 15)          540       \n",
      "_________________________________________________________________\n",
      "dense_1 (Dense)              (None, None, 15)          240       \n",
      "=================================================================\n",
      "Total params: 780\n",
      "Trainable params: 780\n",
      "Non-trainable params: 0\n",
      "_________________________________________________________________\n"
     ]
    }
   ],
   "source": [
    "model.summary()"
   ]
  },
  {
   "cell_type": "code",
   "execution_count": 40,
   "metadata": {
    "scrolled": true
   },
   "outputs": [
    {
     "name": "stdout",
     "output_type": "stream",
     "text": [
      "Epoch 1/30\n",
      "WARNING:tensorflow:Model was constructed with shape (None, None, 35) for input Tensor(\"dense_input:0\", shape=(None, None, 35), dtype=float32), but it was called on an input with incompatible shape (None, 35).\n",
      "WARNING:tensorflow:Model was constructed with shape (None, None, 35) for input Tensor(\"dense_input:0\", shape=(None, None, 35), dtype=float32), but it was called on an input with incompatible shape (None, 35).\n",
      "11785/11802 [============================>.] - ETA: 0s - loss: 2.2993 - accuracy: 0.2650WARNING:tensorflow:Model was constructed with shape (None, None, 35) for input Tensor(\"dense_input:0\", shape=(None, None, 35), dtype=float32), but it was called on an input with incompatible shape (None, 35).\n",
      "11802/11802 [==============================] - 36s 3ms/step - loss: 2.2991 - accuracy: 0.2651 - val_loss: 2.2360 - val_accuracy: 0.2845\n",
      "Epoch 2/30\n",
      "11802/11802 [==============================] - 36s 3ms/step - loss: 2.2182 - accuracy: 0.2874 - val_loss: 2.2343 - val_accuracy: 0.2928\n",
      "Epoch 3/30\n",
      "11802/11802 [==============================] - 36s 3ms/step - loss: 2.1970 - accuracy: 0.2925 - val_loss: 2.2801 - val_accuracy: 0.2756\n",
      "Epoch 4/30\n",
      "11802/11802 [==============================] - 36s 3ms/step - loss: 2.1895 - accuracy: 0.2940 - val_loss: 2.2621 - val_accuracy: 0.2790\n",
      "Epoch 5/30\n",
      "11802/11802 [==============================] - 36s 3ms/step - loss: 2.1848 - accuracy: 0.2951 - val_loss: 2.2510 - val_accuracy: 0.2797\n",
      "Epoch 6/30\n",
      "11802/11802 [==============================] - 36s 3ms/step - loss: 2.1811 - accuracy: 0.2961 - val_loss: 2.2717 - val_accuracy: 0.2757\n",
      "Epoch 7/30\n",
      "11802/11802 [==============================] - 36s 3ms/step - loss: 2.1763 - accuracy: 0.2980 - val_loss: 2.2736 - val_accuracy: 0.2733\n",
      "Epoch 8/30\n",
      "11802/11802 [==============================] - 36s 3ms/step - loss: 2.1709 - accuracy: 0.2998 - val_loss: 2.2735 - val_accuracy: 0.2755\n",
      "Epoch 9/30\n",
      "11802/11802 [==============================] - 36s 3ms/step - loss: 2.1659 - accuracy: 0.3009 - val_loss: 2.2805 - val_accuracy: 0.2727\n",
      "Epoch 10/30\n",
      "11802/11802 [==============================] - 36s 3ms/step - loss: 2.1604 - accuracy: 0.3023 - val_loss: 2.2845 - val_accuracy: 0.2777\n",
      "Epoch 11/30\n",
      "11802/11802 [==============================] - 36s 3ms/step - loss: 2.1534 - accuracy: 0.3038 - val_loss: 2.2823 - val_accuracy: 0.2755\n",
      "Epoch 12/30\n",
      "11802/11802 [==============================] - 36s 3ms/step - loss: 2.1472 - accuracy: 0.3049 - val_loss: 2.2809 - val_accuracy: 0.2696\n",
      "Epoch 13/30\n",
      "11802/11802 [==============================] - 36s 3ms/step - loss: 2.1432 - accuracy: 0.3065 - val_loss: 2.2786 - val_accuracy: 0.2754\n",
      "Epoch 14/30\n",
      "11802/11802 [==============================] - 36s 3ms/step - loss: 2.1405 - accuracy: 0.3082 - val_loss: 2.2845 - val_accuracy: 0.2654\n",
      "Epoch 15/30\n",
      "11802/11802 [==============================] - 36s 3ms/step - loss: 2.1388 - accuracy: 0.3093 - val_loss: 2.2805 - val_accuracy: 0.2675\n",
      "Epoch 16/30\n",
      "11802/11802 [==============================] - 36s 3ms/step - loss: 2.1377 - accuracy: 0.3098 - val_loss: 2.2611 - val_accuracy: 0.2734\n",
      "Epoch 17/30\n",
      "11802/11802 [==============================] - 36s 3ms/step - loss: 2.1369 - accuracy: 0.3102 - val_loss: 2.2658 - val_accuracy: 0.2718\n",
      "Epoch 18/30\n",
      "11802/11802 [==============================] - 36s 3ms/step - loss: 2.1361 - accuracy: 0.3105 - val_loss: 2.2796 - val_accuracy: 0.2674\n",
      "Epoch 19/30\n",
      "11802/11802 [==============================] - 35s 3ms/step - loss: 2.1357 - accuracy: 0.3106 - val_loss: 2.2773 - val_accuracy: 0.2649\n",
      "Epoch 20/30\n",
      "11802/11802 [==============================] - 36s 3ms/step - loss: 2.1345 - accuracy: 0.3113 - val_loss: 2.2845 - val_accuracy: 0.2609\n",
      "Epoch 21/30\n",
      "11802/11802 [==============================] - 36s 3ms/step - loss: 2.1333 - accuracy: 0.3121 - val_loss: 2.2646 - val_accuracy: 0.2723\n",
      "Epoch 22/30\n",
      "11802/11802 [==============================] - 36s 3ms/step - loss: 2.1326 - accuracy: 0.3122 - val_loss: 2.2819 - val_accuracy: 0.2606\n",
      "Epoch 23/30\n",
      "11802/11802 [==============================] - 36s 3ms/step - loss: 2.1319 - accuracy: 0.3123 - val_loss: 2.2850 - val_accuracy: 0.2661\n",
      "Epoch 24/30\n",
      "11802/11802 [==============================] - 36s 3ms/step - loss: 2.1314 - accuracy: 0.3121 - val_loss: 2.2795 - val_accuracy: 0.2650\n",
      "Epoch 25/30\n",
      "11802/11802 [==============================] - 36s 3ms/step - loss: 2.1306 - accuracy: 0.3124 - val_loss: 2.2879 - val_accuracy: 0.2607\n",
      "Epoch 26/30\n",
      "11802/11802 [==============================] - 36s 3ms/step - loss: 2.1301 - accuracy: 0.3129 - val_loss: 2.2808 - val_accuracy: 0.2632\n",
      "Epoch 27/30\n",
      "11802/11802 [==============================] - 36s 3ms/step - loss: 2.1296 - accuracy: 0.3127 - val_loss: 2.2894 - val_accuracy: 0.2590\n",
      "Epoch 28/30\n",
      "11802/11802 [==============================] - 36s 3ms/step - loss: 2.1293 - accuracy: 0.3128 - val_loss: 2.2929 - val_accuracy: 0.2626\n",
      "Epoch 29/30\n",
      "11802/11802 [==============================] - 36s 3ms/step - loss: 2.1289 - accuracy: 0.3131 - val_loss: 2.2762 - val_accuracy: 0.2661\n",
      "Epoch 30/30\n",
      "11802/11802 [==============================] - 36s 3ms/step - loss: 2.1284 - accuracy: 0.3136 - val_loss: 2.2705 - val_accuracy: 0.2633\n"
     ]
    }
   ],
   "source": [
    "history = model.fit(X_train,\n",
    "                    y_train,\n",
    "                    epochs=30,\n",
    "                    #batch_size=512,\n",
    "                    validation_data=(X_val, y_val))"
   ]
  },
  {
   "cell_type": "code",
   "execution_count": 41,
   "metadata": {},
   "outputs": [
    {
     "data": {
      "image/png": "[encoded data removed]",
      "text/plain": [
       "<Figure size 432x288 with 1 Axes>"
      ]
     },
     "metadata": {
      "needs_background": "light"
     },
     "output_type": "display_data"
    }
   ],
   "source": [
    "loss = history.history['loss']\n",
    "val_loss = history.history['val_loss']\n",
    "\n",
    "epochs = range(1, len(loss)+1)\n",
    "\n",
    "plt.plot(epochs, loss, 'bo', label='Training loss')\n",
    "plt.plot(epochs, val_loss, 'b', label='Validation loss')\n",
    "plt.title('Training and validation loss')\n",
    "plt.xlabel('Epochs')\n",
    "plt.ylabel('Loss')\n",
    "plt.legend()\n",
    "\n",
    "plt.show()"
   ]
  },
  {
   "cell_type": "code",
   "execution_count": 42,
   "metadata": {},
   "outputs": [
    {
     "data": {
      "image/png": "[encoded data removed]",
      "text/plain": [
       "<Figure size 432x288 with 1 Axes>"
      ]
     },
     "metadata": {
      "needs_background": "light"
     },
     "output_type": "display_data"
    }
   ],
   "source": [
    "plt.clf()\n",
    "\n",
    "acc = history.history['accuracy']\n",
    "val_acc = history.history['val_accuracy']\n",
    "\n",
    "plt.plot(epochs, acc, 'bo', label='Training acc')\n",
    "plt.plot(epochs, val_acc, 'b', label='Validation acc')\n",
    "plt.title('Training and validation accuracy')\n",
    "plt.xlabel('Epochs')\n",
    "plt.ylabel('Accuracy')\n",
    "plt.legend()\n",
    "\n",
    "plt.show()"
   ]
  },
  {
   "cell_type": "code",
   "execution_count": 43,
   "metadata": {},
   "outputs": [
    {
     "name": "stdout",
     "output_type": "stream",
     "text": [
      "WARNING:tensorflow:Model was constructed with shape (None, None, 35) for input Tensor(\"dense_input:0\", shape=(None, None, 35), dtype=float32), but it was called on an input with incompatible shape (None, 35).\n"
     ]
    }
   ],
   "source": [
    "test_pred = model.predict(X_test)\n",
    "test_pred_cl = model.predict_classes(X_test)"
   ]
  },
  {
   "cell_type": "code",
   "execution_count": 44,
   "metadata": {},
   "outputs": [
    {
     "name": "stdout",
     "output_type": "stream",
     "text": [
      "              precision    recall  f1-score   support\n",
      "\n",
      "           0       0.38      0.06      0.10     19527\n",
      "           1       0.19      0.16      0.18     17241\n",
      "           2       0.35      0.55      0.43     57367\n",
      "           3       0.34      0.08      0.13     25827\n",
      "           4       0.42      0.01      0.02      8028\n",
      "           5       0.17      0.70      0.27     16023\n",
      "           6       0.08      0.00      0.00      9298\n",
      "           7       0.25      0.32      0.28     35073\n",
      "           8       0.16      0.05      0.07      8983\n",
      "           9       0.00      0.00      0.00      5700\n",
      "          10       0.29      0.11      0.16      3122\n",
      "          11       0.18      0.01      0.02     10323\n",
      "          12       0.19      0.00      0.01      3770\n",
      "          13       0.00      0.00      0.00      5031\n",
      "          14       0.00      0.00      0.00      5906\n",
      "\n",
      "    accuracy                           0.27    231219\n",
      "   macro avg       0.20      0.14      0.11    231219\n",
      "weighted avg       0.26      0.27      0.21    231219\n",
      "\n"
     ]
    }
   ],
   "source": [
    "# classification report\n",
    "print(classification_report(y_test, test_pred_cl))"
   ]
  },
  {
   "cell_type": "code",
   "execution_count": 45,
   "metadata": {},
   "outputs": [
    {
     "name": "stdout",
     "output_type": "stream",
     "text": [
      "0.26512527084711895\n"
     ]
    }
   ],
   "source": [
    "print(accuracy_score(y_test, test_pred_cl))"
   ]
  },
  {
   "cell_type": "markdown",
   "metadata": {},
   "source": [
    "### 요리시간은 제외하고"
   ]
  },
  {
   "cell_type": "code",
   "execution_count": 20,
   "metadata": {
    "scrolled": true
   },
   "outputs": [
    {
     "name": "stdout",
     "output_type": "stream",
     "text": [
      "Epoch 1/40\n",
      "WARNING:tensorflow:Model was constructed with shape (None, None, 34) for input Tensor(\"dense_input:0\", shape=(None, None, 34), dtype=float32), but it was called on an input with incompatible shape (None, 34).\n",
      "WARNING:tensorflow:Model was constructed with shape (None, None, 34) for input Tensor(\"dense_input:0\", shape=(None, None, 34), dtype=float32), but it was called on an input with incompatible shape (None, 34).\n",
      "11792/11802 [============================>.] - ETA: 0s - loss: 2.3053 - accuracy: 0.2577WARNING:tensorflow:Model was constructed with shape (None, None, 34) for input Tensor(\"dense_input:0\", shape=(None, None, 34), dtype=float32), but it was called on an input with incompatible shape (None, 34).\n",
      "11802/11802 [==============================] - 36s 3ms/step - loss: 2.3053 - accuracy: 0.2578 - val_loss: 2.2606 - val_accuracy: 0.2665\n",
      "Epoch 2/40\n",
      "11802/11802 [==============================] - 36s 3ms/step - loss: 2.2338 - accuracy: 0.2768 - val_loss: 2.2229 - val_accuracy: 0.2765\n",
      "Epoch 3/40\n",
      "11802/11802 [==============================] - 36s 3ms/step - loss: 2.2138 - accuracy: 0.2844 - val_loss: 2.2102 - val_accuracy: 0.2863\n",
      "Epoch 4/40\n",
      "11802/11802 [==============================] - 36s 3ms/step - loss: 2.2037 - accuracy: 0.2931 - val_loss: 2.2069 - val_accuracy: 0.2871\n",
      "Epoch 5/40\n",
      "11802/11802 [==============================] - 36s 3ms/step - loss: 2.1954 - accuracy: 0.2954 - val_loss: 2.1969 - val_accuracy: 0.2912\n",
      "Epoch 6/40\n",
      "11802/11802 [==============================] - 36s 3ms/step - loss: 2.1901 - accuracy: 0.2964 - val_loss: 2.1928 - val_accuracy: 0.2922\n",
      "Epoch 7/40\n",
      "11802/11802 [==============================] - 36s 3ms/step - loss: 2.1836 - accuracy: 0.2978 - val_loss: 2.1821 - val_accuracy: 0.2922\n",
      "Epoch 8/40\n",
      "11802/11802 [==============================] - 36s 3ms/step - loss: 2.1745 - accuracy: 0.2975 - val_loss: 2.1762 - val_accuracy: 0.2936\n",
      "Epoch 9/40\n",
      "11802/11802 [==============================] - 36s 3ms/step - loss: 2.1684 - accuracy: 0.2978 - val_loss: 2.1699 - val_accuracy: 0.2949\n",
      "Epoch 10/40\n",
      "11802/11802 [==============================] - 36s 3ms/step - loss: 2.1652 - accuracy: 0.2988 - val_loss: 2.1744 - val_accuracy: 0.2914\n",
      "Epoch 11/40\n",
      "11802/11802 [==============================] - 36s 3ms/step - loss: 2.1629 - accuracy: 0.2993 - val_loss: 2.1704 - val_accuracy: 0.2935\n",
      "Epoch 12/40\n",
      "11802/11802 [==============================] - 36s 3ms/step - loss: 2.1615 - accuracy: 0.2998 - val_loss: 2.1687 - val_accuracy: 0.2934\n",
      "Epoch 13/40\n",
      "11802/11802 [==============================] - 36s 3ms/step - loss: 2.1602 - accuracy: 0.2997 - val_loss: 2.1693 - val_accuracy: 0.2924\n",
      "Epoch 14/40\n",
      "11802/11802 [==============================] - 36s 3ms/step - loss: 2.1588 - accuracy: 0.3002 - val_loss: 2.1680 - val_accuracy: 0.2938\n",
      "Epoch 15/40\n",
      "11802/11802 [==============================] - 36s 3ms/step - loss: 2.1577 - accuracy: 0.3005 - val_loss: 2.1643 - val_accuracy: 0.2949\n",
      "Epoch 16/40\n",
      "11802/11802 [==============================] - 36s 3ms/step - loss: 2.1570 - accuracy: 0.3007 - val_loss: 2.1639 - val_accuracy: 0.2949\n",
      "Epoch 17/40\n",
      "11802/11802 [==============================] - 36s 3ms/step - loss: 2.1565 - accuracy: 0.3012 - val_loss: 2.1588 - val_accuracy: 0.2977\n",
      "Epoch 18/40\n",
      "11802/11802 [==============================] - 36s 3ms/step - loss: 2.1561 - accuracy: 0.3014 - val_loss: 2.1624 - val_accuracy: 0.2962\n",
      "Epoch 19/40\n",
      "11802/11802 [==============================] - 36s 3ms/step - loss: 2.1556 - accuracy: 0.3012 - val_loss: 2.1646 - val_accuracy: 0.2938\n",
      "Epoch 20/40\n",
      "11802/11802 [==============================] - 36s 3ms/step - loss: 2.1554 - accuracy: 0.3016 - val_loss: 2.1583 - val_accuracy: 0.2981\n",
      "Epoch 21/40\n",
      "11802/11802 [==============================] - 36s 3ms/step - loss: 2.1551 - accuracy: 0.3010 - val_loss: 2.1655 - val_accuracy: 0.2940\n",
      "Epoch 22/40\n",
      "11802/11802 [==============================] - 36s 3ms/step - loss: 2.1548 - accuracy: 0.3021 - val_loss: 2.1644 - val_accuracy: 0.2945\n",
      "Epoch 23/40\n",
      "11802/11802 [==============================] - 36s 3ms/step - loss: 2.1543 - accuracy: 0.3021 - val_loss: 2.1622 - val_accuracy: 0.2967\n",
      "Epoch 24/40\n",
      "11802/11802 [==============================] - 36s 3ms/step - loss: 2.1538 - accuracy: 0.3023 - val_loss: 2.1595 - val_accuracy: 0.2970\n",
      "Epoch 25/40\n",
      "11802/11802 [==============================] - 36s 3ms/step - loss: 2.1536 - accuracy: 0.3026 - val_loss: 2.1635 - val_accuracy: 0.2956\n",
      "Epoch 26/40\n",
      "11802/11802 [==============================] - 36s 3ms/step - loss: 2.1521 - accuracy: 0.3031 - val_loss: 2.1562 - val_accuracy: 0.2974\n",
      "Epoch 27/40\n",
      "11802/11802 [==============================] - 36s 3ms/step - loss: 2.1499 - accuracy: 0.3036 - val_loss: 2.1534 - val_accuracy: 0.2997\n",
      "Epoch 28/40\n",
      "11802/11802 [==============================] - 36s 3ms/step - loss: 2.1487 - accuracy: 0.3036 - val_loss: 2.1569 - val_accuracy: 0.2969\n",
      "Epoch 29/40\n",
      "11802/11802 [==============================] - 36s 3ms/step - loss: 2.1481 - accuracy: 0.3035 - val_loss: 2.1511 - val_accuracy: 0.2993\n",
      "Epoch 30/40\n",
      "11802/11802 [==============================] - 36s 3ms/step - loss: 2.1473 - accuracy: 0.3038 - val_loss: 2.1526 - val_accuracy: 0.2985\n",
      "Epoch 31/40\n",
      "11802/11802 [==============================] - 36s 3ms/step - loss: 2.1467 - accuracy: 0.3040 - val_loss: 2.1543 - val_accuracy: 0.2960\n",
      "Epoch 32/40\n",
      "11802/11802 [==============================] - 36s 3ms/step - loss: 2.1459 - accuracy: 0.3042 - val_loss: 2.1589 - val_accuracy: 0.2954\n",
      "Epoch 33/40\n",
      "11802/11802 [==============================] - 36s 3ms/step - loss: 2.1446 - accuracy: 0.3041 - val_loss: 2.1510 - val_accuracy: 0.2977\n",
      "Epoch 34/40\n",
      "11802/11802 [==============================] - 36s 3ms/step - loss: 2.1422 - accuracy: 0.3047 - val_loss: 2.1460 - val_accuracy: 0.3005\n",
      "Epoch 35/40\n",
      "11802/11802 [==============================] - 36s 3ms/step - loss: 2.1384 - accuracy: 0.3062 - val_loss: 2.1461 - val_accuracy: 0.3013\n",
      "Epoch 36/40\n",
      "11802/11802 [==============================] - 36s 3ms/step - loss: 2.1340 - accuracy: 0.3084 - val_loss: 2.1398 - val_accuracy: 0.3028\n",
      "Epoch 37/40\n",
      "11802/11802 [==============================] - 36s 3ms/step - loss: 2.1307 - accuracy: 0.3096 - val_loss: 2.1409 - val_accuracy: 0.3021\n",
      "Epoch 38/40\n",
      "11802/11802 [==============================] - 36s 3ms/step - loss: 2.1283 - accuracy: 0.3097 - val_loss: 2.1371 - val_accuracy: 0.3052\n",
      "Epoch 39/40\n",
      "11802/11802 [==============================] - 36s 3ms/step - loss: 2.1271 - accuracy: 0.3106 - val_loss: 2.1408 - val_accuracy: 0.3028\n",
      "Epoch 40/40\n",
      "11802/11802 [==============================] - 36s 3ms/step - loss: 2.1259 - accuracy: 0.3108 - val_loss: 2.1435 - val_accuracy: 0.3030\n"
     ]
    }
   ],
   "source": [
    "X = df[['dong', 'hour', 'week', 'money', 'delivery_time']]\n",
    "y = df['food_ord']\n",
    "\n",
    "X = pd.get_dummies(X)\n",
    "X = X.reset_index(drop=True)\n",
    "\n",
    "X_train, X_test, y_train, y_test = train_test_split(X, y, test_size=0.3)\n",
    "X_train, X_val, y_train, y_val = train_test_split(X_train, y_train, test_size=0.3)\n",
    "\n",
    "y_train = to_categorical(y_train)\n",
    "y_val = to_categorical(y_val)\n",
    "\n",
    "scaler = MinMaxScaler()\n",
    "\n",
    "X_train = scaler.fit_transform(X_train)\n",
    "X_val = scaler.fit_transform(X_val)\n",
    "X_test = scaler.transform(X_test)\n",
    "\n",
    "keras.backend.clear_session()\n",
    "\n",
    "model = keras.models.Sequential()\n",
    "\n",
    "model.add(keras.layers.Dense(15, input_shape=(None, 34), activation='relu'))\n",
    "model.add(keras.layers.Dense(15, activation='softmax'))\n",
    "\n",
    "model.compile(loss = 'categorical_crossentropy', optimizer = 'adam', metrics = 'accuracy')\n",
    "\n",
    "history = model.fit(X_train,\n",
    "                    y_train,\n",
    "                    epochs=40,\n",
    "                    #batch_size=512,\n",
    "                    validation_data=(X_val, y_val))"
   ]
  },
  {
   "cell_type": "code",
   "execution_count": 21,
   "metadata": {},
   "outputs": [
    {
     "name": "stdout",
     "output_type": "stream",
     "text": [
      "WARNING:tensorflow:Model was constructed with shape (None, None, 34) for input Tensor(\"dense_input:0\", shape=(None, None, 34), dtype=float32), but it was called on an input with incompatible shape (None, 34).\n"
     ]
    }
   ],
   "source": [
    "test_pred = model.predict(X_test)\n",
    "test_pred_cl = model.predict_classes(X_test)"
   ]
  },
  {
   "cell_type": "code",
   "execution_count": 22,
   "metadata": {},
   "outputs": [
    {
     "name": "stdout",
     "output_type": "stream",
     "text": [
      "0.3021464499024734\n"
     ]
    }
   ],
   "source": [
    "print(accuracy_score(y_test, test_pred_cl))"
   ]
  },
  {
   "cell_type": "markdown",
   "metadata": {},
   "source": [
    "## 중동만 예측\n",
    "- \"중동에서는\" 몇시, 무슨요일, 얼마를 가지고, 얼마의 배달시간을 원한다면 무슨 음식을 먹을 수 있을까?"
   ]
  },
  {
   "cell_type": "code",
   "execution_count": 23,
   "metadata": {},
   "outputs": [],
   "source": [
    "j = df[df['dong'] == '중동']\n",
    "\n",
    "food_ord = {'카페/디저트':0, '돈까스/일식':1, '치킨':2, '분식':3, '패스트푸드':4,\n",
    "            '족발/보쌈':5, '찜탕':6, '한식':7, '중식':8, '아시안/양식':9,\n",
    "            '도시락':10, '피자':11, '회':12, '배달전문업체':13, '야식':14}\n",
    "\n",
    "j['food_ord'] = j.food.map(food_ord)"
   ]
  },
  {
   "cell_type": "code",
   "execution_count": 24,
   "metadata": {},
   "outputs": [],
   "source": [
    "X = j[['hour', 'week', 'money', 'cook_time', 'delivery_time']]\n",
    "y = j['food_ord']\n",
    "\n",
    "X = pd.get_dummies(X)\n",
    "X = X.reset_index(drop=True)\n",
    "\n",
    "X_train, X_test, y_train, y_test = train_test_split(X, y, test_size=0.3)\n",
    "X_train, X_val, y_train, y_val = train_test_split(X_train, y_train, test_size=0.3)\n",
    "\n",
    "y_train = to_categorical(y_train)\n",
    "y_val = to_categorical(y_val)"
   ]
  },
  {
   "cell_type": "code",
   "execution_count": 25,
   "metadata": {},
   "outputs": [],
   "source": [
    "scaler = MinMaxScaler()\n",
    "\n",
    "X_train = scaler.fit_transform(X_train)\n",
    "X_test = scaler.transform(X_test)"
   ]
  },
  {
   "cell_type": "code",
   "execution_count": 26,
   "metadata": {},
   "outputs": [],
   "source": [
    "keras.backend.clear_session()\n",
    "\n",
    "model = keras.models.Sequential()\n",
    "\n",
    "model.add(keras.layers.Dense(15, input_shape=(None, 11), activation='softmax'))\n",
    "model.add(keras.layers.Dense(15, activation='softmax'))\n",
    "\n",
    "model.compile(loss = 'categorical_crossentropy', optimizer = 'adam', metrics = 'accuracy')"
   ]
  },
  {
   "cell_type": "code",
   "execution_count": 27,
   "metadata": {},
   "outputs": [
    {
     "name": "stdout",
     "output_type": "stream",
     "text": [
      "Model: \"sequential\"\n",
      "_________________________________________________________________\n",
      "Layer (type)                 Output Shape              Param #   \n",
      "=================================================================\n",
      "dense (Dense)                (None, None, 15)          180       \n",
      "_________________________________________________________________\n",
      "dense_1 (Dense)              (None, None, 15)          240       \n",
      "=================================================================\n",
      "Total params: 420\n",
      "Trainable params: 420\n",
      "Non-trainable params: 0\n",
      "_________________________________________________________________\n"
     ]
    }
   ],
   "source": [
    "model.summary()"
   ]
  },
  {
   "cell_type": "code",
   "execution_count": 28,
   "metadata": {
    "scrolled": true
   },
   "outputs": [
    {
     "name": "stdout",
     "output_type": "stream",
     "text": [
      "Epoch 1/30\n",
      "WARNING:tensorflow:Model was constructed with shape (None, None, 11) for input Tensor(\"dense_input:0\", shape=(None, None, 11), dtype=float32), but it was called on an input with incompatible shape (None, 11).\n",
      "WARNING:tensorflow:Model was constructed with shape (None, None, 11) for input Tensor(\"dense_input:0\", shape=(None, None, 11), dtype=float32), but it was called on an input with incompatible shape (None, 11).\n",
      "2160/2165 [============================>.] - ETA: 0s - loss: 2.3481 - accuracy: 0.2430WARNING:tensorflow:Model was constructed with shape (None, None, 11) for input Tensor(\"dense_input:0\", shape=(None, None, 11), dtype=float32), but it was called on an input with incompatible shape (None, 11).\n",
      "2165/2165 [==============================] - 7s 3ms/step - loss: 2.3477 - accuracy: 0.2433 - val_loss: 2.3178 - val_accuracy: 0.2436\n",
      "Epoch 2/30\n",
      "2165/2165 [==============================] - 7s 3ms/step - loss: 2.2968 - accuracy: 0.2423 - val_loss: 2.3375 - val_accuracy: 0.2436\n",
      "Epoch 3/30\n",
      "2165/2165 [==============================] - 7s 3ms/step - loss: 2.2911 - accuracy: 0.2478 - val_loss: 2.3733 - val_accuracy: 0.2436\n",
      "Epoch 4/30\n",
      "2165/2165 [==============================] - 7s 3ms/step - loss: 2.2846 - accuracy: 0.2640 - val_loss: 2.4279 - val_accuracy: 0.2436\n",
      "Epoch 5/30\n",
      "2165/2165 [==============================] - 7s 3ms/step - loss: 2.2779 - accuracy: 0.2704 - val_loss: 2.4857 - val_accuracy: 0.2436\n",
      "Epoch 6/30\n",
      "2165/2165 [==============================] - 7s 3ms/step - loss: 2.2707 - accuracy: 0.2708 - val_loss: 2.5385 - val_accuracy: 0.2436\n",
      "Epoch 7/30\n",
      "2165/2165 [==============================] - 7s 3ms/step - loss: 2.2624 - accuracy: 0.2710 - val_loss: 2.5501 - val_accuracy: 0.2436\n",
      "Epoch 8/30\n",
      "2165/2165 [==============================] - 7s 3ms/step - loss: 2.2519 - accuracy: 0.2715 - val_loss: 2.7525 - val_accuracy: 0.1030\n",
      "Epoch 9/30\n",
      "2165/2165 [==============================] - 7s 3ms/step - loss: 2.2393 - accuracy: 0.2762 - val_loss: 2.9364 - val_accuracy: 0.1028\n",
      "Epoch 10/30\n",
      "2165/2165 [==============================] - 7s 3ms/step - loss: 2.2269 - accuracy: 0.2872 - val_loss: 3.0902 - val_accuracy: 0.1025\n",
      "Epoch 11/30\n",
      "2165/2165 [==============================] - 7s 3ms/step - loss: 2.2165 - accuracy: 0.2909 - val_loss: 3.2165 - val_accuracy: 0.1024\n",
      "Epoch 12/30\n",
      "2165/2165 [==============================] - 7s 3ms/step - loss: 2.2085 - accuracy: 0.2921 - val_loss: 3.3227 - val_accuracy: 0.1025\n",
      "Epoch 13/30\n",
      "2165/2165 [==============================] - 7s 3ms/step - loss: 2.2026 - accuracy: 0.2930 - val_loss: 3.4188 - val_accuracy: 0.0898\n",
      "Epoch 14/30\n",
      "2165/2165 [==============================] - 7s 3ms/step - loss: 2.1984 - accuracy: 0.2936 - val_loss: 3.4873 - val_accuracy: 0.0899\n",
      "Epoch 15/30\n",
      "2165/2165 [==============================] - 7s 3ms/step - loss: 2.1951 - accuracy: 0.2944 - val_loss: 3.5506 - val_accuracy: 0.0899\n",
      "Epoch 16/30\n",
      "2165/2165 [==============================] - 7s 3ms/step - loss: 2.1927 - accuracy: 0.2949 - val_loss: 3.6019 - val_accuracy: 0.0899\n",
      "Epoch 17/30\n",
      "2165/2165 [==============================] - 7s 3ms/step - loss: 2.1905 - accuracy: 0.2956 - val_loss: 3.6356 - val_accuracy: 0.0901\n",
      "Epoch 18/30\n",
      "2165/2165 [==============================] - 7s 3ms/step - loss: 2.1889 - accuracy: 0.2952 - val_loss: 3.6899 - val_accuracy: 0.0901\n",
      "Epoch 19/30\n",
      "2165/2165 [==============================] - 7s 3ms/step - loss: 2.1872 - accuracy: 0.2958 - val_loss: 3.7073 - val_accuracy: 0.0902\n",
      "Epoch 20/30\n",
      "2165/2165 [==============================] - 6s 3ms/step - loss: 2.1857 - accuracy: 0.2953 - val_loss: 3.7335 - val_accuracy: 0.0902\n",
      "Epoch 21/30\n",
      "2165/2165 [==============================] - 7s 3ms/step - loss: 2.1839 - accuracy: 0.2955 - val_loss: 3.7510 - val_accuracy: 0.0902\n",
      "Epoch 22/30\n",
      "2165/2165 [==============================] - 7s 3ms/step - loss: 2.1822 - accuracy: 0.2952 - val_loss: 3.7716 - val_accuracy: 0.0903\n",
      "Epoch 23/30\n",
      "2165/2165 [==============================] - 7s 3ms/step - loss: 2.1804 - accuracy: 0.2961 - val_loss: 3.7948 - val_accuracy: 0.0903\n",
      "Epoch 24/30\n",
      "2165/2165 [==============================] - 7s 3ms/step - loss: 2.1787 - accuracy: 0.2953 - val_loss: 3.8069 - val_accuracy: 0.1030\n",
      "Epoch 25/30\n",
      "2165/2165 [==============================] - 7s 3ms/step - loss: 2.1770 - accuracy: 0.2953 - val_loss: 3.8336 - val_accuracy: 0.1029\n",
      "Epoch 26/30\n",
      "2165/2165 [==============================] - 7s 3ms/step - loss: 2.1754 - accuracy: 0.2962 - val_loss: 3.8412 - val_accuracy: 0.1029\n",
      "Epoch 27/30\n",
      "2165/2165 [==============================] - 6s 3ms/step - loss: 2.1738 - accuracy: 0.2960 - val_loss: 3.8613 - val_accuracy: 0.1029\n",
      "Epoch 28/30\n",
      "2165/2165 [==============================] - 7s 3ms/step - loss: 2.1724 - accuracy: 0.2963 - val_loss: 3.8596 - val_accuracy: 0.1028\n",
      "Epoch 29/30\n",
      "2165/2165 [==============================] - 7s 3ms/step - loss: 2.1709 - accuracy: 0.2960 - val_loss: 3.8721 - val_accuracy: 0.1017\n",
      "Epoch 30/30\n",
      "2165/2165 [==============================] - 7s 3ms/step - loss: 2.1694 - accuracy: 0.2969 - val_loss: 3.8812 - val_accuracy: 0.1017\n"
     ]
    }
   ],
   "source": [
    "history = model.fit(X_train,\n",
    "                    y_train,\n",
    "                    epochs=30,\n",
    "                    #batch_size=512,\n",
    "                    validation_data=(X_val, y_val))"
   ]
  },
  {
   "cell_type": "code",
   "execution_count": 29,
   "metadata": {},
   "outputs": [
    {
     "data": {
      "image/png": "[encoded data removed]",
      "text/plain": [
       "<Figure size 432x288 with 1 Axes>"
      ]
     },
     "metadata": {
      "needs_background": "light"
     },
     "output_type": "display_data"
    }
   ],
   "source": [
    "loss = history.history['loss']\n",
    "val_loss = history.history['val_loss']\n",
    "\n",
    "epochs = range(1, len(loss)+1)\n",
    "\n",
    "plt.plot(epochs, loss, 'bo', label='Training loss')\n",
    "plt.plot(epochs, val_loss, 'b', label='Validation loss')\n",
    "plt.title('Training and validation loss')\n",
    "plt.xlabel('Epochs')\n",
    "plt.ylabel('Loss')\n",
    "plt.legend()\n",
    "\n",
    "plt.show()"
   ]
  },
  {
   "cell_type": "code",
   "execution_count": 30,
   "metadata": {},
   "outputs": [
    {
     "data": {
      "image/png": "[encoded data removed]",
      "text/plain": [
       "<Figure size 432x288 with 1 Axes>"
      ]
     },
     "metadata": {
      "needs_background": "light"
     },
     "output_type": "display_data"
    }
   ],
   "source": [
    "plt.clf()\n",
    "\n",
    "acc = history.history['accuracy']\n",
    "val_acc = history.history['val_accuracy']\n",
    "\n",
    "plt.plot(epochs, acc, 'bo', label='Training acc')\n",
    "plt.plot(epochs, val_acc, 'b', label='Validation acc')\n",
    "plt.title('Training and validation accuracy')\n",
    "plt.xlabel('Epochs')\n",
    "plt.ylabel('Accuracy')\n",
    "plt.legend()\n",
    "\n",
    "plt.show()"
   ]
  },
  {
   "cell_type": "code",
   "execution_count": 31,
   "metadata": {},
   "outputs": [
    {
     "name": "stdout",
     "output_type": "stream",
     "text": [
      "WARNING:tensorflow:Model was constructed with shape (None, None, 11) for input Tensor(\"dense_input:0\", shape=(None, None, 11), dtype=float32), but it was called on an input with incompatible shape (None, 11).\n"
     ]
    }
   ],
   "source": [
    "test_pred = model.predict(X_test)\n",
    "test_pred_cl = model.predict_classes(X_test)"
   ]
  },
  {
   "cell_type": "code",
   "execution_count": 32,
   "metadata": {},
   "outputs": [
    {
     "name": "stdout",
     "output_type": "stream",
     "text": [
      "0.29681937141914033\n"
     ]
    }
   ],
   "source": [
    "print(accuracy_score(y_test, test_pred_cl))"
   ]
  },
  {
   "cell_type": "markdown",
   "metadata": {},
   "source": [
    "# 로지스틱회귀분석을 통한 다중 분류"
   ]
  },
  {
   "cell_type": "code",
   "execution_count": 33,
   "metadata": {},
   "outputs": [],
   "source": [
    "from sklearn.linear_model import LogisticRegression"
   ]
  },
  {
   "cell_type": "code",
   "execution_count": 34,
   "metadata": {},
   "outputs": [
    {
     "name": "stdout",
     "output_type": "stream",
     "text": [
      "학습 집합 정확도: 0.248\n",
      "테스트 집합 정확도: 0.249\n"
     ]
    }
   ],
   "source": [
    "X = df[['dong', 'hour', 'week', 'money', 'delivery_time']]\n",
    "y = df['food_ord']\n",
    "\n",
    "X = pd.get_dummies(X)\n",
    "X = X.reset_index(drop=True)\n",
    "\n",
    "X_train, X_test, y_train, y_test = train_test_split(X, y, test_size=0.3)\n",
    "\n",
    "log_reg = LogisticRegression().fit(X_train, y_train)\n",
    "\n",
    "print(\"학습 집합 정확도: {:.3f}\".format(log_reg.score(X_train, y_train)))\n",
    "print(\"테스트 집합 정확도: {:.3f}\".format(log_reg.score(X_test, y_test)))"
   ]
  },
  {
   "cell_type": "markdown",
   "metadata": {},
   "source": [
    "## k겹 교차검증"
   ]
  },
  {
   "cell_type": "code",
   "execution_count": null,
   "metadata": {},
   "outputs": [],
   "source": [
    "X = df[['dong', 'hour', 'week', 'money', 'delivery_time']]\n",
    "y = df['food_ord']\n",
    "\n",
    "X = pd.get_dummies(X)\n",
    "X = X.reset_index(drop=True)\n",
    "\n",
    "train_data, test_data, train_targets, test_targets = train_test_split(X, y, test_size=0.3)\n",
    "\n",
    "train_targets = to_categorical(train_targets)"
   ]
  },
  {
   "cell_type": "code",
   "execution_count": null,
   "metadata": {},
   "outputs": [],
   "source": [
    "from keras import models\n",
    "from keras import layers\n",
    "\n",
    "def build_model():\n",
    "    model = keras.models.Sequential()\n",
    "    model.add(keras.layers.Dense(15, input_shape=(None, 34), activation='relu'))\n",
    "    model.add(keras.layers.Dense(15, activation='softmax'))\n",
    "    model.compile(loss = 'categorical_crossentropy', optimizer = 'adam', metrics = 'accuracy')\n",
    "    return model"
   ]
  },
  {
   "cell_type": "code",
   "execution_count": null,
   "metadata": {},
   "outputs": [],
   "source": [
    "k = 5\n",
    "\n",
    "num_val_samples = len(train_data) // k\n",
    "num_epochs = 10\n",
    "all_scores = []\n",
    "\n",
    "for i in range(k):\n",
    "    print('처리중인 폴드 #', i)\n",
    "    val_data = train_data[i*num_val_samples: (i+1)*num_val_samples]\n",
    "    val_targets = train_targets[i*num_val_samples: (i+1)*num_val_samples]\n",
    "    \n",
    "    partial_train_data = np.concatenate(\n",
    "        [train_data[:i*num_val_samples],\n",
    "         train_data[(i+1)*num_val_samples:]],\n",
    "        axis=0)\n",
    "    \n",
    "    partial_train_targets = np.concatenate(\n",
    "        [train_targets[:i*num_val_samples],\n",
    "         train_targets[(i+1)*num_val_samples:]],\n",
    "        axis=0)\n",
    "    \n",
    "    model = build_model()\n",
    "    model.fit(partial_train_data, partial_train_targets,\n",
    "              epochs=num_epochs, batch_size=1, verbose=0)\n",
    "    val_mse, val_mae = model.evaluate(val_data, val_targets, verbose=0)\n",
    "    all_scores.append(val_mae)"
   ]
  },
  {
   "cell_type": "code",
   "execution_count": null,
   "metadata": {},
   "outputs": [],
   "source": [
    "num_epochs = 500\n",
    "all_mae_histories = []\n",
    "\n",
    "for i in range(k):\n",
    "    print('처리중인 폴드#', i)\n",
    "    val_data = train_data[i*num_val_samples: (i+1)*num_val_samples]\n",
    "    val_targets = train_targets[i*num_val_samples: (i+1)*num_val_samples]\n",
    "    \n",
    "    partial_train_data = np.concatenate(\n",
    "        [train_data[:i*num_val_samples],\n",
    "         train_data[(i+1)*num_val_samples:]],\n",
    "        axis=0)\n",
    "    \n",
    "    partial_train_targets = np.concatenate(\n",
    "        [train_targets[:i*num_val_samples],\n",
    "         train_targets[(i+1)*num_val_samples:]],\n",
    "        axis=0)\n",
    "    \n",
    "    model = build_model()\n",
    "    model.fit(partial_train_data, partial_train_targets,\n",
    "              epochs=num_epochs, batch_size=1, verbose=0)\n",
    "    val_mse, val_mae = model.evaluate(val_data, val_targets, verbose=0)\n",
    "    all_scores.append(val_mae)"
   ]
  },
  {
   "cell_type": "code",
   "execution_count": null,
   "metadata": {},
   "outputs": [],
   "source": [
    "average_mae_history = [np.mean([x[i] for x in all_mae_histories]) for i in range(num_epochs)]"
   ]
  },
  {
   "cell_type": "code",
   "execution_count": null,
   "metadata": {},
   "outputs": [],
   "source": [
    "plt.plot(range(1, len(average_mae_history) + 1), average_mae_history)\n",
    "plt.xlabel('Epochs')\n",
    "plt.ylabel('Validation MAE')\n",
    "plt.show()"
   ]
  },
  {
   "cell_type": "code",
   "execution_count": null,
   "metadata": {},
   "outputs": [],
   "source": [
    "def smooth_curve(points, factor=0.9):\n",
    "    smoothed_points = []\n",
    "    for point in points:\n",
    "        if smoothed_points:\n",
    "            previous = smoothed_points[-1]\n",
    "            smoothed_points.append(previous*factor + point*(1-factor))\n",
    "        else:\n",
    "            smoothed_points.append(point)\n",
    "    return smoothed_points\n",
    "\n",
    "smooth_mae_history = smooth_curve(average_mae_history[10:])\n",
    "\n",
    "plt.plot(range(1, len(smooth_mae_history) + 1), smooth_mae_history)\n",
    "plt.xlabel('Epochs')\n",
    "plt.ylabel('Validation MAE')\n",
    "plt.show()"
   ]
  }
 ],
 "metadata": {
  "kernelspec": {
   "display_name": "tf2.3.0-keras2.4.0-py3.7-cuda10.1",
   "language": "python",
   "name": "tf2.3.0-keras2.4.0-py3.7-cuda10.1"
  },
  "language_info": {
   "codemirror_mode": {
    "name": "ipython",
    "version": 3
   },
   "file_extension": ".py",
   "mimetype": "text/x-python",
   "name": "python",
   "nbconvert_exporter": "python",
   "pygments_lexer": "ipython3",
   "version": "3.7.5"
  }
 },
 "nbformat": 4,
 "nbformat_minor": 4
}
